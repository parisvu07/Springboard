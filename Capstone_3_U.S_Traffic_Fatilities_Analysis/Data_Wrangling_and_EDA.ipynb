{
 "cells": [
  {
   "cell_type": "markdown",
   "id": "07d147fe",
   "metadata": {},
   "source": [
    "# U.S. Traffic Casualty Analysis - Data Wrangling & EDA"
   ]
  },
  {
   "cell_type": "markdown",
   "id": "c83f730c",
   "metadata": {},
   "source": [
    "Traffic fatalities are a significant issue in the United States. The goal of this project proposal is to use data science to identify factors contributing to traffic accidents and develop targeted interventions to reduce the number of fatalities using resources from 2016-2021.\n",
    "\n",
    "According to the National Highway Traffic Safety Administration (NHTSA), the number of traffic fatalities in the United States from 2016 to 2021 is as follows:\n",
    "* 2016: 37,806 \n",
    "* 2017: 37,133 \n",
    "* 2018: 36,835 \n",
    "* 2019: 36,096 \n",
    "* 2020: 38,680 \n",
    "* 2021: 42,915 \n",
    "\n",
    "It's worth noting that 2020 saw an increase in traffic fatalities, despite a decrease in the number of vehicles on the road due to the COVID-19 pandemic. The reasons for this increase are complex and multifactorial, but some contributing factors include an increase in risky behaviors such as speeding and distracted driving, as well as an increase in alcohol and drug use."
   ]
  },
  {
   "cell_type": "markdown",
   "id": "ed441e49",
   "metadata": {},
   "source": [
    "## 1.1 Data Wrangling"
   ]
  },
  {
   "cell_type": "markdown",
   "id": "e6d4ac9b",
   "metadata": {},
   "source": [
    "### 1.1.1 Imports"
   ]
  },
  {
   "cell_type": "code",
   "execution_count": 1,
   "id": "b62e5ef1",
   "metadata": {},
   "outputs": [],
   "source": [
    "import numpy as np\n",
    "import pandas as pd\n",
    "import matplotlib.pyplot as plt\n",
    "plt.style.use('seaborn-whitegrid')\n",
    "import seaborn as sns\n",
    "sns.set_style('darkgrid')\n",
    "import warnings\n",
    "warnings.filterwarnings('ignore')\n",
    "\n",
    "from collections import Counter"
   ]
  },
  {
   "cell_type": "markdown",
   "id": "250dada1",
   "metadata": {},
   "source": [
    "**About the Data** \\\n",
    "`accidents`\n",
    "The US Accidents (2016-2021) dataset available on Kaggle is a rich source of information about traffic accidents that occurred in the United States over a period of five years. This dataset is compiled from various sources, including traffic cameras, police reports, and other public data sources. The dataset contains information about more than 2.8 million traffic accidents, including the location, time, and date of the accident, as well as information about the severity of the accident, the number of people involved, and the weather conditions at the time of the accident.\n",
    "\n",
    "This dataset can be used for a variety of purposes, such as identifying the most dangerous roads and intersections, predicting accident rates based on weather conditions or time of day, and evaluating the effectiveness of traffic safety measures. By conducting EDA on this dataset, we can gain valuable insights into the factors that contribute to traffic accidents and develop strategies to reduce the number of accidents and improve road safety.\n",
    "\n",
    "`weather` this is a countrywide weather events dataset that includes 7.5 million events, and covers 49 states of the United States. Examples of weather events are rain, snow, storm, and freezing condition. Some of the events in this dataset are extreme events (e.g. storm) and some could be regarded as regular events (e.g. rain and snow). The data is collected from January 2016 to December 2021, using historical weather reports that were collected from 2,071 airport-based weather stations across the nation.\n",
    "\n",
    "`constructions` this is a countrywide dataset of road construction and closure events, which covers 49 states of the US. Construction events in this dataset could be any roadwork, ranging from fixing pavements to substantial projects that could take months to finish. The data is collected from Jan 2016 to Dec 2021"
   ]
  },
  {
   "cell_type": "code",
   "execution_count": null,
   "id": "cb9d89a8",
   "metadata": {},
   "outputs": [],
   "source": [
    "accidents = pd.read_csv('accidents.csv')\n",
    "weather = pd.read_csv('weather.csv')\n",
    "constructions = pd.read_csv('constructions.csv')"
   ]
  },
  {
   "cell_type": "code",
   "execution_count": null,
   "id": "29e00674",
   "metadata": {
    "scrolled": false
   },
   "outputs": [],
   "source": [
    "accidents.head()"
   ]
  },
  {
   "cell_type": "code",
   "execution_count": null,
   "id": "288348ef",
   "metadata": {
    "scrolled": true
   },
   "outputs": [],
   "source": [
    "weather.head()"
   ]
  },
  {
   "cell_type": "code",
   "execution_count": null,
   "id": "0e72e5ff",
   "metadata": {
    "scrolled": true
   },
   "outputs": [],
   "source": [
    "constructions.head()"
   ]
  },
  {
   "cell_type": "markdown",
   "id": "b6eb2428",
   "metadata": {},
   "source": [
    "### 1.1.2 Accidents"
   ]
  },
  {
   "cell_type": "code",
   "execution_count": null,
   "id": "0f95480d",
   "metadata": {
    "scrolled": true
   },
   "outputs": [],
   "source": [
    "accidents.info()"
   ]
  },
  {
   "cell_type": "code",
   "execution_count": null,
   "id": "cf9545c1",
   "metadata": {},
   "outputs": [],
   "source": [
    "accidents.Weather_Timestamp.nunique()"
   ]
  },
  {
   "cell_type": "code",
   "execution_count": null,
   "id": "3e7d0477",
   "metadata": {
    "scrolled": true
   },
   "outputs": [],
   "source": [
    "missing_accidents = pd.concat([accidents.isnull().sum(), 100 * accidents.isnull().mean()], axis=1)\n",
    "missing_accidents.columns=['count','%']\n",
    "missing_accidents.sort_values(by=['%'], ascending=False)"
   ]
  },
  {
   "cell_type": "code",
   "execution_count": null,
   "id": "4d5cb451",
   "metadata": {},
   "outputs": [],
   "source": [
    "missing_percentage = accidents.isna().sum().sort_values(ascending = False) / len(accidents)\n",
    "a = missing_percentage[missing_percentage!= 0]\n",
    "a.plot(kind='barh')"
   ]
  },
  {
   "cell_type": "markdown",
   "id": "22d53537",
   "metadata": {},
   "source": [
    "The three fields with the highest % of missing values for the 'accidents' dataset are Numbers, Precipitation(in), and Wind_Chili(F). \n",
    "* `Numbers` is a field that shows the street number in address field. \n",
    "* `Precipitation(in)` shows precipitation amount in inches, if there is any. \n",
    "* `Wind_Chili(F)` shows the wind chill (in Fahrenheit)."
   ]
  },
  {
   "cell_type": "markdown",
   "id": "4fcc8fa0",
   "metadata": {},
   "source": [
    "### 1.1.3 Weather"
   ]
  },
  {
   "cell_type": "code",
   "execution_count": null,
   "id": "1b681c6e",
   "metadata": {
    "scrolled": true
   },
   "outputs": [],
   "source": [
    "weather.info()"
   ]
  },
  {
   "cell_type": "code",
   "execution_count": null,
   "id": "03e3c87c",
   "metadata": {
    "scrolled": true
   },
   "outputs": [],
   "source": [
    "missing_weather = pd.concat([weather.isnull().sum(), 100 * weather.isnull().mean()], axis=1)\n",
    "missing_weather.columns=['count','%']\n",
    "missing_weather.sort_values(by=['%'], ascending=False)"
   ]
  },
  {
   "cell_type": "code",
   "execution_count": null,
   "id": "3c6f9c38",
   "metadata": {},
   "outputs": [],
   "source": [
    "missing_percentage = weather.isna().sum().sort_values(ascending = False) / len(weather)\n",
    "a = missing_percentage[missing_percentage!= 0]\n",
    "a.plot(kind='barh')"
   ]
  },
  {
   "cell_type": "markdown",
   "id": "1755ef02",
   "metadata": {},
   "source": [
    "The two fields with the highest % of missing values for the 'weather' dataset are City, and ZipCode\n",
    "* `City` refers to the city in address record\n",
    "* `ZipCode` refers to the zipcode in address record"
   ]
  },
  {
   "cell_type": "markdown",
   "id": "c3fd0b71",
   "metadata": {},
   "source": [
    "### 1.1.4 Constructions"
   ]
  },
  {
   "cell_type": "code",
   "execution_count": null,
   "id": "601de756",
   "metadata": {},
   "outputs": [],
   "source": [
    "constructions.info()"
   ]
  },
  {
   "cell_type": "code",
   "execution_count": null,
   "id": "a15a3da4",
   "metadata": {
    "scrolled": true
   },
   "outputs": [],
   "source": [
    "missing_constructions = pd.concat([constructions.isnull().sum(), 100 * constructions.isnull().mean()], axis=1)\n",
    "missing_constructions.columns=['count','%']\n",
    "missing_constructions.sort_values(by=['%'], ascending=False)"
   ]
  },
  {
   "cell_type": "code",
   "execution_count": null,
   "id": "00984a06",
   "metadata": {},
   "outputs": [],
   "source": [
    "missing_percentage = constructions.isna().sum().sort_values(ascending = False) / len(constructions)\n",
    "a = missing_percentage[missing_percentage!= 0]\n",
    "a.plot(kind='barh')"
   ]
  },
  {
   "cell_type": "markdown",
   "id": "464be7d6",
   "metadata": {},
   "source": [
    "Similar to the 'accidents' dataset, the three fields with the highest % of missing values for the 'accidents' dataset are Numbers, Precipitation(in), and Wind_Chili(F).\n",
    "* `Numbers` is a field that shows the street number in address field. \n",
    "* `Precipitation(in)` shows precipitation amount in inches, if there is any. \n",
    "* `Wind_Chili(F)` shows the wind chill (in Fahrenheit)."
   ]
  },
  {
   "cell_type": "markdown",
   "id": "da16347c",
   "metadata": {},
   "source": [
    "## 1.2 Exploratory Data Analysis"
   ]
  },
  {
   "cell_type": "markdown",
   "id": "d117b9a6",
   "metadata": {},
   "source": [
    "### 1.2.1 Accidents"
   ]
  },
  {
   "cell_type": "code",
   "execution_count": null,
   "id": "8325bd89",
   "metadata": {
    "scrolled": true
   },
   "outputs": [],
   "source": [
    "accidents.columns"
   ]
  },
  {
   "cell_type": "markdown",
   "id": "4e4bb366",
   "metadata": {},
   "source": [
    "#### State & City"
   ]
  },
  {
   "cell_type": "markdown",
   "id": "5be249ea",
   "metadata": {},
   "source": [
    "**Q:** Which state has the highest number of accidents? How about per capita?"
   ]
  },
  {
   "cell_type": "code",
   "execution_count": null,
   "id": "c1494c84",
   "metadata": {},
   "outputs": [],
   "source": [
    "accidents.State.value_counts().sort_values(ascending = False).index[0]"
   ]
  },
  {
   "cell_type": "markdown",
   "id": "34394db3",
   "metadata": {},
   "source": [
    "California has the highest amount of accidents throughout 2016 to 2021!"
   ]
  },
  {
   "cell_type": "markdown",
   "id": "669ea47e",
   "metadata": {},
   "source": [
    "**Q:** How many unique cities are there?"
   ]
  },
  {
   "cell_type": "code",
   "execution_count": null,
   "id": "80e0d60c",
   "metadata": {},
   "outputs": [],
   "source": [
    "len(accidents.City.unique())"
   ]
  },
  {
   "cell_type": "markdown",
   "id": "c5fbcd53",
   "metadata": {},
   "source": [
    "**Q:** Which city has the most accidents?"
   ]
  },
  {
   "cell_type": "code",
   "execution_count": null,
   "id": "dbae3f7d",
   "metadata": {
    "scrolled": false
   },
   "outputs": [],
   "source": [
    "(accidents['City'] + ', ' + accidents['County'] + ', ' + accidents['State']).value_counts().head()"
   ]
  },
  {
   "cell_type": "code",
   "execution_count": null,
   "id": "36184ea6",
   "metadata": {
    "scrolled": false
   },
   "outputs": [],
   "source": [
    "city_accidents = accidents.City.value_counts()\n",
    "plt.figure(figsize = (5,5))\n",
    "city_accidents[:20].plot(kind = 'barh')\n",
    "plt.title(\"20 cities with the most accidents in the US\")\n",
    "plt.xlabel(\"Number of Accidents\")\n",
    "plt.ylabel(\"Cities\")\n",
    "plt.show()"
   ]
  },
  {
   "cell_type": "markdown",
   "id": "f02dda28",
   "metadata": {},
   "source": [
    "**Q:** Which cities have the most accidents with severity graded 4? \\\n",
    "`Severity` shows the severity of the accident, a number between 1 and 4, where 1 indicates the least impact on traffic (i.e., short delay as a result of the accident) and 4 indicates a significant impact on traffic (i.e., long delay)."
   ]
  },
  {
   "cell_type": "code",
   "execution_count": null,
   "id": "0ad25079",
   "metadata": {},
   "outputs": [],
   "source": [
    "a = accidents[[\"City\",\"Severity\"]].groupby('City').mean().sort_values('Severity',ascending = False)\n",
    "a[:20].plot(kind='barh', color=(0.2, 0.4, 0.6, 0.6))\n",
    "plt.title(\"Cities with accident severity rate 4\")\n",
    "plt.xlabel(\"Severity\")\n",
    "plt.show()"
   ]
  },
  {
   "cell_type": "code",
   "execution_count": null,
   "id": "a268e48a",
   "metadata": {},
   "outputs": [],
   "source": [
    "plt.figure(figsize = (9,3))\n",
    "sns.distplot(city_accidents)\n",
    "plt.title(\"Distribution of the accidents\")\n",
    "plt.xlabel(\"Number of Accidents\")\n",
    "plt.show()"
   ]
  },
  {
   "cell_type": "code",
   "execution_count": null,
   "id": "4ca564a1",
   "metadata": {},
   "outputs": [],
   "source": [
    "high_accident_cities = city_accidents[city_accidents >=1000]\n",
    "low_accident_cities = city_accidents[city_accidents<1000]\n",
    "plt.figure(figsize = (9,3))\n",
    "sns.distplot(high_accident_cities)\n",
    "plt.title(\"Density of Cities With High Accident Rates\")\n",
    "plt.xlabel(\"Number of Accidents\")\n",
    "plt.show()"
   ]
  },
  {
   "cell_type": "code",
   "execution_count": null,
   "id": "dd0e04c7",
   "metadata": {},
   "outputs": [],
   "source": [
    "plt.figure(figsize = (9,3))\n",
    "sns.distplot(low_accident_cities)\n",
    "plt.title(\"Density of Cities With Low Accident Rates\")\n",
    "plt.xlabel(\"Number of Accidents\")\n",
    "plt.show()"
   ]
  },
  {
   "cell_type": "code",
   "execution_count": null,
   "id": "a3f60111",
   "metadata": {},
   "outputs": [],
   "source": [
    "len(high_accident_cities) / len(accidents.City.unique())"
   ]
  },
  {
   "cell_type": "code",
   "execution_count": null,
   "id": "1434318e",
   "metadata": {},
   "outputs": [],
   "source": [
    "len(low_accident_cities) / len(accidents.City.unique())"
   ]
  },
  {
   "cell_type": "markdown",
   "id": "b3f37670",
   "metadata": {},
   "source": [
    "**Q:** How many cities only had one accident from 2016 to 2021?"
   ]
  },
  {
   "cell_type": "code",
   "execution_count": null,
   "id": "31ce4808",
   "metadata": {},
   "outputs": [],
   "source": [
    "city_accidents[city_accidents == 1].sum()"
   ]
  },
  {
   "cell_type": "markdown",
   "id": "655c172b",
   "metadata": {},
   "source": [
    "#### Distribution of Accident by Start Time"
   ]
  },
  {
   "cell_type": "code",
   "execution_count": null,
   "id": "7f42a796",
   "metadata": {},
   "outputs": [],
   "source": [
    "accidents.Start_Time = pd.to_datetime(accidents.Start_Time)"
   ]
  },
  {
   "cell_type": "markdown",
   "id": "26268e24",
   "metadata": {},
   "source": [
    "**Q:** What is the distribution of start time for all accidents in the US from 2016 to 2021? \\\n",
    "`Start_Time` shows start time of the accident in local time zone."
   ]
  },
  {
   "cell_type": "code",
   "execution_count": null,
   "id": "58b8ce4d",
   "metadata": {},
   "outputs": [],
   "source": [
    "sns.distplot(accidents.Start_Time.dt.hour, bins = 24, norm_hist = True )\n",
    "plt.title(\"Distribution of Accidents by Hour\")\n",
    "plt.ylabel('Percentage')\n",
    "plt.show()"
   ]
  },
  {
   "cell_type": "markdown",
   "id": "deb84a62",
   "metadata": {},
   "source": [
    "It seems that accidents start to intensify between 05:00 am and 07:00 am. In most cities, rush hour typically starts around 7-9 AM in the morning as people commute to work, and then again from 4-6 PM in the afternoon as they return home. During these times, the volume of vehicles on the road increases significantly, leading to more congestion, slower speeds, and longer travel times.\n",
    "\n",
    "There are several reasons why traffic intensifies during these peak times. Firstly, many people have similar work schedules, so there is a high demand for travel at these times. Additionally, many parents may be dropping off or picking up their children from school, further contributing to traffic volume.\n",
    "\n",
    "Furthermore, road construction or accidents can also cause delays and exacerbate congestion during peak times. Overall, rush hour traffic tends to be a product of the collective behavior of commuters and the existing transportation infrastructure, and it's not easy to completely avoid it."
   ]
  },
  {
   "cell_type": "code",
   "execution_count": null,
   "id": "da91813e",
   "metadata": {},
   "outputs": [],
   "source": [
    "sns.distplot(accidents.Start_Time.dt.dayofweek, bins = 7, kde =False, norm_hist = True )\n",
    "plt.title(\"Distribution of Accidents by Day of Week\")\n",
    "plt.ylabel('Percentage')\n",
    "plt.show()"
   ]
  },
  {
   "cell_type": "code",
   "execution_count": null,
   "id": "35064f7e",
   "metadata": {},
   "outputs": [],
   "source": [
    "weekend = accidents[(accidents.Start_Time.dt.dayofweek == 6) | (accidents.Start_Time.dt.dayofweek == 7)]\n",
    "sns.distplot(weekend.Start_Time.dt.hour, bins = 24, norm_hist = True )\n",
    "plt.title(\"Distribution of Accidents on the Weekend\")\n",
    "plt.ylabel('Percentage')\n",
    "plt.show()"
   ]
  },
  {
   "cell_type": "markdown",
   "id": "7afe660e",
   "metadata": {},
   "source": [
    "As expected, the accident rate is much lower in the morning hours compared to the whole week. We can see that accidents has only intensified around 10:00 am on the weekend as more people wake up and attend social activities. It makes sense that accident rates increase in the afternoon because people are out and about doing activities. The reason why the accident rate is still higher at night than on normal days could be because people were driving under the influence."
   ]
  },
  {
   "cell_type": "code",
   "execution_count": null,
   "id": "e2cee6c3",
   "metadata": {},
   "outputs": [],
   "source": [
    "sns.distplot(accidents.Start_Time.dt.month, bins = 12, kde = False,  norm_hist = True)\n",
    "plt.title(\"Distribution of Accidents by Month\")\n",
    "plt.ylabel('Percentage')\n",
    "plt.show()"
   ]
  },
  {
   "cell_type": "markdown",
   "id": "95918d38",
   "metadata": {},
   "source": [
    "The above figure suggests that more accidents happen toward the end of the year. However, to double check that the result is consistent across every year. Let's check the distribution of accident per year."
   ]
  },
  {
   "cell_type": "code",
   "execution_count": null,
   "id": "3e4679a8",
   "metadata": {},
   "outputs": [],
   "source": [
    "df_2016 = accidents[accidents.Start_Time.dt.year == 2016]\n",
    "df_2017 = accidents[accidents.Start_Time.dt.year == 2017]\n",
    "df_2018 = accidents[accidents.Start_Time.dt.year == 2018]\n",
    "df_2019 = accidents[accidents.Start_Time.dt.year == 2019]\n",
    "df_2020 = accidents[accidents.Start_Time.dt.year == 2020]\n",
    "df_2021 = accidents[accidents.Start_Time.dt.year == 2021]"
   ]
  },
  {
   "cell_type": "code",
   "execution_count": null,
   "id": "d204493f",
   "metadata": {},
   "outputs": [],
   "source": [
    "sns.distplot(df_2016.Start_Time.dt.month, bins = 12, kde = False,  norm_hist = True )\n",
    "plt.ylabel('Percentage')\n",
    "plt.show()"
   ]
  },
  {
   "cell_type": "code",
   "execution_count": null,
   "id": "853bf3c9",
   "metadata": {},
   "outputs": [],
   "source": [
    "sns.distplot(df_2017.Start_Time.dt.month, bins = 12, kde = False,  norm_hist = True )\n",
    "plt.ylabel('Percentage')\n",
    "plt.show()"
   ]
  },
  {
   "cell_type": "code",
   "execution_count": null,
   "id": "afcd27f4",
   "metadata": {},
   "outputs": [],
   "source": [
    "sns.distplot(df_2018.Start_Time.dt.month, bins = 12, kde = False,  norm_hist = True )\n",
    "plt.ylabel('Percentage')\n",
    "plt.show()"
   ]
  },
  {
   "cell_type": "code",
   "execution_count": null,
   "id": "d9748d02",
   "metadata": {},
   "outputs": [],
   "source": [
    "sns.distplot(df_2019.Start_Time.dt.month, bins = 12, kde = False,  norm_hist = True )\n",
    "plt.ylabel('Percentage')\n",
    "plt.show()"
   ]
  },
  {
   "cell_type": "code",
   "execution_count": null,
   "id": "5e53ca52",
   "metadata": {},
   "outputs": [],
   "source": [
    "sns.distplot(df_2020.Start_Time.dt.month, bins = 12, kde = False,  norm_hist = True )\n",
    "plt.ylabel('Percentage')\n",
    "plt.show()"
   ]
  },
  {
   "cell_type": "code",
   "execution_count": null,
   "id": "ebc24a32",
   "metadata": {},
   "outputs": [],
   "source": [
    "sns.distplot(df_2021.Start_Time.dt.month, bins = 12, kde = False,  norm_hist = True )\n",
    "plt.ylabel('Percentage')\n",
    "plt.show()"
   ]
  },
  {
   "cell_type": "markdown",
   "id": "3fd0f9a7",
   "metadata": {},
   "source": [
    "After looking the distrubution of each year we can see that the they do not form a regular distribution. It might be due to a lack of data (2016, 2019 and 2020) or a change in traffic behavior. "
   ]
  },
  {
   "cell_type": "markdown",
   "id": "68d833fa",
   "metadata": {},
   "source": [
    "### Start Latitude and Longitude"
   ]
  },
  {
   "cell_type": "markdown",
   "id": "c68018ce",
   "metadata": {},
   "source": [
    "Latitude and longitude are geographic coordinates that are used to specify a location on the Earth's surface. Latitude is the measurement of a location's distance from the equator, while longitude is the measurement of a location's distance from the Prime Meridian. Together, latitude and longitude provide a precise and universal way of identifying any location on the Earth's surface."
   ]
  },
  {
   "cell_type": "code",
   "execution_count": null,
   "id": "8ce8ad87",
   "metadata": {
    "scrolled": true
   },
   "outputs": [],
   "source": [
    "sns.scatterplot(x = accidents.Start_Lng, y = accidents.Start_Lat)"
   ]
  },
  {
   "cell_type": "markdown",
   "id": "6c0131fc",
   "metadata": {},
   "source": [
    "Since this dataset contains accidents in the United States of America, it makes sense that the locations of these accidents form the shape of the U.S. "
   ]
  },
  {
   "cell_type": "markdown",
   "id": "296eec4b",
   "metadata": {},
   "source": [
    "#### Temperature"
   ]
  },
  {
   "cell_type": "markdown",
   "id": "e3f0f961",
   "metadata": {},
   "source": [
    "in general, temperatures above 70°F (21°C) are considered warm and comfortable for most people, while temperatures above 80°F (27°C) can be considered hot. Due to this, let's consider Temparature > 70 F as warm & Temparature < 70 as cold.\n",
    "\n",
    "*WARM > 70 > COLD*"
   ]
  },
  {
   "cell_type": "code",
   "execution_count": null,
   "id": "0e8c9c1c",
   "metadata": {},
   "outputs": [],
   "source": [
    "accidents[['Temperature(F)', 'City']]"
   ]
  },
  {
   "cell_type": "code",
   "execution_count": null,
   "id": "2f09a5be",
   "metadata": {},
   "outputs": [],
   "source": [
    "WARM = len(accidents[accidents['Temperature(F)'] > 70][['Temperature(F)', 'City']])\n",
    "COLD = len(accidents[accidents['Temperature(F)'] < 70][['Temperature(F)', 'City']])\n",
    "\n",
    "print('WARM', WARM)\n",
    "print('COLD', COLD)"
   ]
  },
  {
   "cell_type": "code",
   "execution_count": null,
   "id": "046b7f62",
   "metadata": {},
   "outputs": [],
   "source": [
    "plt.pie([WARM, COLD], autopct=\"%1.2f%%\", labels=['WARM', 'COLD'])"
   ]
  }
 ],
 "metadata": {
  "kernelspec": {
   "display_name": "Python 3 (ipykernel)",
   "language": "python",
   "name": "python3"
  },
  "language_info": {
   "codemirror_mode": {
    "name": "ipython",
    "version": 3
   },
   "file_extension": ".py",
   "mimetype": "text/x-python",
   "name": "python",
   "nbconvert_exporter": "python",
   "pygments_lexer": "ipython3",
   "version": "3.9.13"
  }
 },
 "nbformat": 4,
 "nbformat_minor": 5
}
