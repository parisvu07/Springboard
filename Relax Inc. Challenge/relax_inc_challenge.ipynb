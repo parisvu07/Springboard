{
 "cells": [
  {
   "cell_type": "markdown",
   "id": "f15010b7",
   "metadata": {},
   "source": [
    "# Relax Inc. Challenge"
   ]
  },
  {
   "cell_type": "markdown",
   "id": "9c1efe13",
   "metadata": {},
   "source": [
    "## 1 Data Wrangling "
   ]
  },
  {
   "cell_type": "markdown",
   "id": "c40fbd49",
   "metadata": {},
   "source": [
    "### 1.1 User Engagement"
   ]
  },
  {
   "cell_type": "code",
   "execution_count": 1,
   "id": "f1c4f3bd",
   "metadata": {},
   "outputs": [],
   "source": [
    "# import libraries\n",
    "import pandas as pd\n",
    "import numpy as np\n",
    "import matplotlib.pyplot as plt\n",
    "import seaborn as sns\n",
    "%matplotlib inline\n",
    "plt.style.use('fivethirtyeight')"
   ]
  },
  {
   "cell_type": "code",
   "execution_count": 3,
   "id": "97c8084f",
   "metadata": {},
   "outputs": [
    {
     "data": {
      "text/html": [
       "<div>\n",
       "<style scoped>\n",
       "    .dataframe tbody tr th:only-of-type {\n",
       "        vertical-align: middle;\n",
       "    }\n",
       "\n",
       "    .dataframe tbody tr th {\n",
       "        vertical-align: top;\n",
       "    }\n",
       "\n",
       "    .dataframe thead th {\n",
       "        text-align: right;\n",
       "    }\n",
       "</style>\n",
       "<table border=\"1\" class=\"dataframe\">\n",
       "  <thead>\n",
       "    <tr style=\"text-align: right;\">\n",
       "      <th></th>\n",
       "      <th>time_stamp</th>\n",
       "      <th>user_id</th>\n",
       "      <th>visited</th>\n",
       "    </tr>\n",
       "  </thead>\n",
       "  <tbody>\n",
       "    <tr>\n",
       "      <th>0</th>\n",
       "      <td>2014-04-22 03:53:30</td>\n",
       "      <td>1</td>\n",
       "      <td>1</td>\n",
       "    </tr>\n",
       "    <tr>\n",
       "      <th>1</th>\n",
       "      <td>2013-11-15 03:45:04</td>\n",
       "      <td>2</td>\n",
       "      <td>1</td>\n",
       "    </tr>\n",
       "    <tr>\n",
       "      <th>2</th>\n",
       "      <td>2013-11-29 03:45:04</td>\n",
       "      <td>2</td>\n",
       "      <td>1</td>\n",
       "    </tr>\n",
       "    <tr>\n",
       "      <th>3</th>\n",
       "      <td>2013-12-09 03:45:04</td>\n",
       "      <td>2</td>\n",
       "      <td>1</td>\n",
       "    </tr>\n",
       "    <tr>\n",
       "      <th>4</th>\n",
       "      <td>2013-12-25 03:45:04</td>\n",
       "      <td>2</td>\n",
       "      <td>1</td>\n",
       "    </tr>\n",
       "  </tbody>\n",
       "</table>\n",
       "</div>"
      ],
      "text/plain": [
       "            time_stamp  user_id  visited\n",
       "0  2014-04-22 03:53:30        1        1\n",
       "1  2013-11-15 03:45:04        2        1\n",
       "2  2013-11-29 03:45:04        2        1\n",
       "3  2013-12-09 03:45:04        2        1\n",
       "4  2013-12-25 03:45:04        2        1"
      ]
     },
     "execution_count": 3,
     "metadata": {},
     "output_type": "execute_result"
    }
   ],
   "source": [
    "#read the user engagement data\n",
    "engagement = pd.read_csv('takehome_user_engagement.csv')\n",
    "engagement.head()"
   ]
  },
  {
   "cell_type": "code",
   "execution_count": 4,
   "id": "c499a87f",
   "metadata": {},
   "outputs": [
    {
     "name": "stdout",
     "output_type": "stream",
     "text": [
      "There were 8823 users and 207917 total logins\n"
     ]
    }
   ],
   "source": [
    "#check how many users and how many logins\n",
    "print('There were {} users and {} total logins'.format(\n",
    "    engagement['user_id'].nunique(), len(engagement)\n",
    "))"
   ]
  },
  {
   "cell_type": "code",
   "execution_count": 5,
   "id": "d90bee90",
   "metadata": {},
   "outputs": [],
   "source": [
    "# convert time_stamp into datetime format\n",
    "engagement['time_stamp'] = pd.to_datetime(\n",
    "    engagement['time_stamp'], format='%Y-%m-%d %H:%M:%S'\n",
    ")"
   ]
  },
  {
   "cell_type": "code",
   "execution_count": 6,
   "id": "97d566a2",
   "metadata": {},
   "outputs": [],
   "source": [
    "# define a function to see if a user logged in on 3 seperate days in a 7-day period.\n",
    "def logins_in_days(df, days=7, logins=3):\n",
    "    from datetime import timedelta\n",
    "    # first drop duplicate days and sort by day\n",
    "    df['date'] = df['time_stamp'].dt.date\n",
    "    df = df.drop_duplicates(subset='date').sort_values('date')\n",
    "    # calculate how many days has passed for every 3 logins\n",
    "    passed_days = df['date'].diff(periods=logins-1)\n",
    "    # check if any passed time is less than 7 days\n",
    "    return any(passed_days <= timedelta(days=days))"
   ]
  },
  {
   "cell_type": "code",
   "execution_count": 7,
   "id": "253ad583",
   "metadata": {},
   "outputs": [],
   "source": [
    "# run the function on all users\n",
    "adopted = engagement.groupby('user_id').apply(logins_in_days)\n",
    "adopted.name = 'adopted_user'"
   ]
  },
  {
   "cell_type": "code",
   "execution_count": 8,
   "id": "71285f82",
   "metadata": {},
   "outputs": [
    {
     "name": "stdout",
     "output_type": "stream",
     "text": [
      "There were 1656 adopted users out of 8823 users\n"
     ]
    }
   ],
   "source": [
    "print('There were {} adopted users out of {} users'.format(\n",
    "    sum(adopted), len(adopted)))"
   ]
  },
  {
   "cell_type": "markdown",
   "id": "fa70c94d",
   "metadata": {},
   "source": [
    "### 1.2 User Data"
   ]
  },
  {
   "cell_type": "code",
   "execution_count": 11,
   "id": "2e453524",
   "metadata": {},
   "outputs": [
    {
     "data": {
      "text/html": [
       "<div>\n",
       "<style scoped>\n",
       "    .dataframe tbody tr th:only-of-type {\n",
       "        vertical-align: middle;\n",
       "    }\n",
       "\n",
       "    .dataframe tbody tr th {\n",
       "        vertical-align: top;\n",
       "    }\n",
       "\n",
       "    .dataframe thead th {\n",
       "        text-align: right;\n",
       "    }\n",
       "</style>\n",
       "<table border=\"1\" class=\"dataframe\">\n",
       "  <thead>\n",
       "    <tr style=\"text-align: right;\">\n",
       "      <th></th>\n",
       "      <th>object_id</th>\n",
       "      <th>creation_time</th>\n",
       "      <th>creation_source</th>\n",
       "      <th>last_session_creation_time</th>\n",
       "      <th>opted_in_to_mailing_list</th>\n",
       "      <th>enabled_for_marketing_drip</th>\n",
       "      <th>org_id</th>\n",
       "      <th>invited_by_user_id</th>\n",
       "    </tr>\n",
       "  </thead>\n",
       "  <tbody>\n",
       "    <tr>\n",
       "      <th>0</th>\n",
       "      <td>1</td>\n",
       "      <td>2014-04-22 03:53:30</td>\n",
       "      <td>GUEST_INVITE</td>\n",
       "      <td>1.398139e+09</td>\n",
       "      <td>1</td>\n",
       "      <td>0</td>\n",
       "      <td>11</td>\n",
       "      <td>10803.0</td>\n",
       "    </tr>\n",
       "    <tr>\n",
       "      <th>1</th>\n",
       "      <td>2</td>\n",
       "      <td>2013-11-15 03:45:04</td>\n",
       "      <td>ORG_INVITE</td>\n",
       "      <td>1.396238e+09</td>\n",
       "      <td>0</td>\n",
       "      <td>0</td>\n",
       "      <td>1</td>\n",
       "      <td>316.0</td>\n",
       "    </tr>\n",
       "    <tr>\n",
       "      <th>2</th>\n",
       "      <td>3</td>\n",
       "      <td>2013-03-19 23:14:52</td>\n",
       "      <td>ORG_INVITE</td>\n",
       "      <td>1.363735e+09</td>\n",
       "      <td>0</td>\n",
       "      <td>0</td>\n",
       "      <td>94</td>\n",
       "      <td>1525.0</td>\n",
       "    </tr>\n",
       "    <tr>\n",
       "      <th>3</th>\n",
       "      <td>4</td>\n",
       "      <td>2013-05-21 08:09:28</td>\n",
       "      <td>GUEST_INVITE</td>\n",
       "      <td>1.369210e+09</td>\n",
       "      <td>0</td>\n",
       "      <td>0</td>\n",
       "      <td>1</td>\n",
       "      <td>5151.0</td>\n",
       "    </tr>\n",
       "    <tr>\n",
       "      <th>4</th>\n",
       "      <td>5</td>\n",
       "      <td>2013-01-17 10:14:20</td>\n",
       "      <td>GUEST_INVITE</td>\n",
       "      <td>1.358850e+09</td>\n",
       "      <td>0</td>\n",
       "      <td>0</td>\n",
       "      <td>193</td>\n",
       "      <td>5240.0</td>\n",
       "    </tr>\n",
       "  </tbody>\n",
       "</table>\n",
       "</div>"
      ],
      "text/plain": [
       "   object_id        creation_time creation_source  last_session_creation_time  \\\n",
       "0          1  2014-04-22 03:53:30    GUEST_INVITE                1.398139e+09   \n",
       "1          2  2013-11-15 03:45:04      ORG_INVITE                1.396238e+09   \n",
       "2          3  2013-03-19 23:14:52      ORG_INVITE                1.363735e+09   \n",
       "3          4  2013-05-21 08:09:28    GUEST_INVITE                1.369210e+09   \n",
       "4          5  2013-01-17 10:14:20    GUEST_INVITE                1.358850e+09   \n",
       "\n",
       "   opted_in_to_mailing_list  enabled_for_marketing_drip  org_id  \\\n",
       "0                         1                           0      11   \n",
       "1                         0                           0       1   \n",
       "2                         0                           0      94   \n",
       "3                         0                           0       1   \n",
       "4                         0                           0     193   \n",
       "\n",
       "   invited_by_user_id  \n",
       "0             10803.0  \n",
       "1               316.0  \n",
       "2              1525.0  \n",
       "3              5151.0  \n",
       "4              5240.0  "
      ]
     },
     "execution_count": 11,
     "metadata": {},
     "output_type": "execute_result"
    }
   ],
   "source": [
    "# read the user data\n",
    "# some columns such as name, email address are not useful here\n",
    "# let's not read them\n",
    "cols = ['object_id', 'creation_source', 'creation_time', \n",
    "        'last_session_creation_time', 'opted_in_to_mailing_list',\n",
    "        'enabled_for_marketing_drip', 'org_id', 'invited_by_user_id']\n",
    "users = pd.read_csv('takehome_users.csv', usecols=cols, encoding='latin-1')\n",
    "users.head()"
   ]
  },
  {
   "cell_type": "markdown",
   "id": "e9b847e4",
   "metadata": {},
   "source": [
    "There were likely too many organizations and user invites to model. Let's do a quick survey of the organizations with most users and users who sent out most invites. Then drop those two features."
   ]
  },
  {
   "cell_type": "code",
   "execution_count": 13,
   "id": "bfda34b5",
   "metadata": {},
   "outputs": [
    {
     "data": {
      "text/plain": [
       "0    319\n",
       "1    233\n",
       "2    201\n",
       "3    168\n",
       "4    159\n",
       "Name: org_id, dtype: int64"
      ]
     },
     "execution_count": 13,
     "metadata": {},
     "output_type": "execute_result"
    }
   ],
   "source": [
    "# 5 Organizations with most users\n",
    "users['org_id'].value_counts().head()"
   ]
  },
  {
   "cell_type": "code",
   "execution_count": 14,
   "id": "54c7ade7",
   "metadata": {},
   "outputs": [
    {
     "data": {
      "text/plain": [
       "10741.0    13\n",
       "2527.0     12\n",
       "1525.0     11\n",
       "11770.0    11\n",
       "2308.0     11\n",
       "Name: invited_by_user_id, dtype: int64"
      ]
     },
     "execution_count": 14,
     "metadata": {},
     "output_type": "execute_result"
    }
   ],
   "source": [
    "# 5 Users with most invites\n",
    "users['invited_by_user_id'].value_counts().head()"
   ]
  },
  {
   "cell_type": "code",
   "execution_count": 15,
   "id": "1fa19c05",
   "metadata": {},
   "outputs": [],
   "source": [
    "# remove those two features\n",
    "users = users.drop(['org_id', 'invited_by_user_id'], axis=1)"
   ]
  },
  {
   "cell_type": "markdown",
   "id": "6518daa2",
   "metadata": {},
   "source": [
    "From the creation time and last session time, we can engineer two features that can be useful. \\\n",
    "It is possible that the history of using the software might be a factor of becoming \"adopted users\". In other words, users who have used the software for a long time might be more likely to be \"adopted users\" than those who had just signed up.\\\n",
    "It is likely that user adoption rate vary through time, so it is useful to take a look at account age (based on creation time) as well."
   ]
  },
  {
   "cell_type": "code",
   "execution_count": 16,
   "id": "54401ec3",
   "metadata": {},
   "outputs": [],
   "source": [
    "# create a feature of user history\n",
    "# convert both time features into datetime\n",
    "users['creation_time'] = pd.to_datetime(\n",
    "    users['creation_time'], format='%Y-%m-%d %H:%M:%S')\n",
    "users['last_session_creation_time'] = pd.to_datetime(\n",
    "    users['last_session_creation_time'], unit='s')\n",
    "# calculate user history, defined as number of days between account creation and last use\n",
    "users['history'] = users['last_session_creation_time'] - users['creation_time']\n",
    "users['history'] = users['history'].dt.days\n",
    "# calculate account age, defined as number of days since account creation and now\n",
    "# I don't know when this dataset was collected. Let's use the latest date in creation_time\n",
    "latest = max(users['creation_time'])\n",
    "users['account_age'] = latest - users['creation_time']\n",
    "users['account_age'] = users['account_age'].dt.days\n",
    "# drop the two original columns\n",
    "users = users.drop(['creation_time', 'last_session_creation_time'], axis=1)"
   ]
  },
  {
   "cell_type": "code",
   "execution_count": 17,
   "id": "32844c41",
   "metadata": {},
   "outputs": [
    {
     "data": {
      "text/html": [
       "<div>\n",
       "<style scoped>\n",
       "    .dataframe tbody tr th:only-of-type {\n",
       "        vertical-align: middle;\n",
       "    }\n",
       "\n",
       "    .dataframe tbody tr th {\n",
       "        vertical-align: top;\n",
       "    }\n",
       "\n",
       "    .dataframe thead th {\n",
       "        text-align: right;\n",
       "    }\n",
       "</style>\n",
       "<table border=\"1\" class=\"dataframe\">\n",
       "  <thead>\n",
       "    <tr style=\"text-align: right;\">\n",
       "      <th></th>\n",
       "      <th>object_id</th>\n",
       "      <th>creation_source</th>\n",
       "      <th>opted_in_to_mailing_list</th>\n",
       "      <th>enabled_for_marketing_drip</th>\n",
       "      <th>history</th>\n",
       "      <th>account_age</th>\n",
       "    </tr>\n",
       "  </thead>\n",
       "  <tbody>\n",
       "    <tr>\n",
       "      <th>0</th>\n",
       "      <td>1</td>\n",
       "      <td>GUEST_INVITE</td>\n",
       "      <td>1</td>\n",
       "      <td>0</td>\n",
       "      <td>0.0</td>\n",
       "      <td>38</td>\n",
       "    </tr>\n",
       "    <tr>\n",
       "      <th>1</th>\n",
       "      <td>2</td>\n",
       "      <td>ORG_INVITE</td>\n",
       "      <td>0</td>\n",
       "      <td>0</td>\n",
       "      <td>136.0</td>\n",
       "      <td>196</td>\n",
       "    </tr>\n",
       "    <tr>\n",
       "      <th>2</th>\n",
       "      <td>3</td>\n",
       "      <td>ORG_INVITE</td>\n",
       "      <td>0</td>\n",
       "      <td>0</td>\n",
       "      <td>0.0</td>\n",
       "      <td>437</td>\n",
       "    </tr>\n",
       "    <tr>\n",
       "      <th>3</th>\n",
       "      <td>4</td>\n",
       "      <td>GUEST_INVITE</td>\n",
       "      <td>0</td>\n",
       "      <td>0</td>\n",
       "      <td>1.0</td>\n",
       "      <td>374</td>\n",
       "    </tr>\n",
       "    <tr>\n",
       "      <th>4</th>\n",
       "      <td>5</td>\n",
       "      <td>GUEST_INVITE</td>\n",
       "      <td>0</td>\n",
       "      <td>0</td>\n",
       "      <td>5.0</td>\n",
       "      <td>498</td>\n",
       "    </tr>\n",
       "  </tbody>\n",
       "</table>\n",
       "</div>"
      ],
      "text/plain": [
       "   object_id creation_source  opted_in_to_mailing_list  \\\n",
       "0          1    GUEST_INVITE                         1   \n",
       "1          2      ORG_INVITE                         0   \n",
       "2          3      ORG_INVITE                         0   \n",
       "3          4    GUEST_INVITE                         0   \n",
       "4          5    GUEST_INVITE                         0   \n",
       "\n",
       "   enabled_for_marketing_drip  history  account_age  \n",
       "0                           0      0.0           38  \n",
       "1                           0    136.0          196  \n",
       "2                           0      0.0          437  \n",
       "3                           0      1.0          374  \n",
       "4                           0      5.0          498  "
      ]
     },
     "execution_count": 17,
     "metadata": {},
     "output_type": "execute_result"
    }
   ],
   "source": [
    "users.head()"
   ]
  },
  {
   "cell_type": "code",
   "execution_count": 18,
   "id": "05d86d36",
   "metadata": {},
   "outputs": [
    {
     "name": "stdout",
     "output_type": "stream",
     "text": [
      "<class 'pandas.core.frame.DataFrame'>\n",
      "RangeIndex: 12000 entries, 0 to 11999\n",
      "Data columns (total 6 columns):\n",
      " #   Column                      Non-Null Count  Dtype  \n",
      "---  ------                      --------------  -----  \n",
      " 0   object_id                   12000 non-null  int64  \n",
      " 1   creation_source             12000 non-null  object \n",
      " 2   opted_in_to_mailing_list    12000 non-null  int64  \n",
      " 3   enabled_for_marketing_drip  12000 non-null  int64  \n",
      " 4   history                     8823 non-null   float64\n",
      " 5   account_age                 12000 non-null  int64  \n",
      "dtypes: float64(1), int64(4), object(1)\n",
      "memory usage: 562.6+ KB\n"
     ]
    }
   ],
   "source": [
    "users.info()"
   ]
  },
  {
   "cell_type": "markdown",
   "id": "cdc07a6a",
   "metadata": {},
   "source": [
    "There were 8823 users who had \"user history\" out of 12000. It was not clear from the challenge description whether data for other users were missing, or don't exist at all. However, given there are users who has history of 0 days, I think the engagement data for the other users were simply missing. Therefore, I will remove these users from the analysis."
   ]
  },
  {
   "cell_type": "code",
   "execution_count": 20,
   "id": "353c5bb8",
   "metadata": {},
   "outputs": [],
   "source": [
    "# merge user data and \"adopted user\" variable\n",
    "users = users.set_index('object_id')\n",
    "users.index.name = 'user_id'\n",
    "data = pd.concat([users, adopted], axis=1, join='inner')\n",
    "data['adopted_user'] = data['adopted_user'].astype(int)"
   ]
  },
  {
   "cell_type": "markdown",
   "id": "2496ed88",
   "metadata": {},
   "source": [
    "## 2 Exploratory Data Analysis"
   ]
  },
  {
   "cell_type": "code",
   "execution_count": 22,
   "id": "fd355eca",
   "metadata": {},
   "outputs": [
    {
     "data": {
      "image/png": "[encoded data removed]",
      "text/plain": [
       "<Figure size 640x480 with 1 Axes>"
      ]
     },
     "metadata": {},
     "output_type": "display_data"
    }
   ],
   "source": [
    "# Creation source and adopted user\n",
    "_ = sns.countplot(x='creation_source', data=data, hue='adopted_user')\n",
    "_ = plt.xticks(rotation=90)"
   ]
  },
  {
   "cell_type": "code",
   "execution_count": 23,
   "id": "2ab34632",
   "metadata": {},
   "outputs": [
    {
     "name": "stdout",
     "output_type": "stream",
     "text": [
      "chi2 = 41.27933208242451\tp = 2.3526508745340972e-08\n"
     ]
    }
   ],
   "source": [
    "# doesn't look like there was much difference among creation sources\n",
    "# let's do a chi2 test\n",
    "from scipy.stats import chi2_contingency\n",
    "crosstab = pd.crosstab(data['creation_source'], data['adopted_user'])\n",
    "results = chi2_contingency(crosstab)\n",
    "print('chi2 = {}\\tp = {}'.format(results[0], results[1]))"
   ]
  },
  {
   "cell_type": "code",
   "execution_count": 24,
   "id": "fa84e168",
   "metadata": {},
   "outputs": [
    {
     "data": {
      "text/plain": [
       "creation_source\n",
       "GUEST_INVITE          0.232368\n",
       "ORG_INVITE            0.180050\n",
       "PERSONAL_PROJECTS     0.225131\n",
       "SIGNUP                0.159115\n",
       "SIGNUP_GOOGLE_AUTH    0.172563\n",
       "Name: adopted_user, dtype: float64"
      ]
     },
     "execution_count": 24,
     "metadata": {},
     "output_type": "execute_result"
    }
   ],
   "source": [
    "# hmm, chi2 test significant, but how much was the difference\n",
    "data.groupby('creation_source')['adopted_user'].apply(lambda x: sum(x)/len(x))"
   ]
  },
  {
   "cell_type": "markdown",
   "id": "97d96471",
   "metadata": {},
   "source": [
    "OK, slightly higher \"adopted user\" rate in guest_invite and personal_projects, that makes sense because users who got invite probably was collaborting with others, and users who have personal projects are likely to have more personal interest that make them more engaged."
   ]
  },
  {
   "cell_type": "code",
   "execution_count": 25,
   "id": "6bf5ed21",
   "metadata": {},
   "outputs": [
    {
     "data": {
      "text/plain": [
       "opted_in_to_mailing_list\n",
       "0    0.185994\n",
       "1    0.192722\n",
       "Name: adopted_user, dtype: float64"
      ]
     },
     "execution_count": 25,
     "metadata": {},
     "output_type": "execute_result"
    }
   ],
   "source": [
    "# check mailing list and marketing drip\n",
    "data.groupby('opted_in_to_mailing_list')['adopted_user'].apply(lambda x: sum(x)/len(x))"
   ]
  },
  {
   "cell_type": "code",
   "execution_count": 26,
   "id": "ff896577",
   "metadata": {},
   "outputs": [
    {
     "name": "stdout",
     "output_type": "stream",
     "text": [
      "For opted_in_to_mailing_list, z = 0.7029779128148232, p = 0.4820695142048763\n"
     ]
    }
   ],
   "source": [
    "def z_test(df, col, target='adopted_user'):\n",
    "    from statsmodels.stats.weightstats import CompareMeans\n",
    "    opted_in = df.loc[data[col]==1, target]\n",
    "    opted_out = df.loc[data[col]==0, target]\n",
    "    z_data = CompareMeans.from_data(opted_in, opted_out)\n",
    "    z, p = CompareMeans.ztest_ind(z_data)\n",
    "    print('For {}, z = {}, p = {}'.format(col, z, p))\n",
    "z_test(data, 'opted_in_to_mailing_list')"
   ]
  },
  {
   "cell_type": "code",
   "execution_count": 27,
   "id": "adead3f5",
   "metadata": {},
   "outputs": [
    {
     "data": {
      "text/plain": [
       "enabled_for_marketing_drip\n",
       "0    0.186982\n",
       "1    0.191648\n",
       "Name: adopted_user, dtype: float64"
      ]
     },
     "execution_count": 27,
     "metadata": {},
     "output_type": "execute_result"
    }
   ],
   "source": [
    "data.groupby('enabled_for_marketing_drip')['adopted_user'].apply(lambda x: sum(x)/len(x))"
   ]
  },
  {
   "cell_type": "code",
   "execution_count": 28,
   "id": "0cc75c5a",
   "metadata": {},
   "outputs": [
    {
     "name": "stdout",
     "output_type": "stream",
     "text": [
      "For enabled_for_marketing_drip, z = 0.4029264950094029, p = 0.6870022995069653\n"
     ]
    }
   ],
   "source": [
    "z_test(data, 'enabled_for_marketing_drip')"
   ]
  },
  {
   "cell_type": "markdown",
   "id": "4c2d5be9",
   "metadata": {},
   "source": [
    "\n",
    "There was really no difference between users who signed up or not for mailing list and marketing drip."
   ]
  },
  {
   "cell_type": "code",
   "execution_count": 29,
   "id": "a0e3924b",
   "metadata": {},
   "outputs": [
    {
     "data": {
      "image/png": "[encoded data removed]",
      "text/plain": [
       "<Figure size 640x480 with 1 Axes>"
      ]
     },
     "metadata": {},
     "output_type": "display_data"
    }
   ],
   "source": [
    "# history and adopted user\n",
    "def plot_hist_days(df, col, xlabel):\n",
    "    _ = plt.hist(df.loc[data['adopted_user']==1, col], \n",
    "                 bins=30, alpha=0.3, color='b', label='adopted user')\n",
    "    _ = plt.hist(df.loc[data['adopted_user']==0, col], \n",
    "                 bins=30, alpha=0.3, color='r', label='non adopted user')\n",
    "    _ = plt.yscale('log')\n",
    "    _ = plt.legend()\n",
    "    _ = plt.xlabel(xlabel)\n",
    "    _ = plt.ylabel('No. of users')\n",
    "    _ = plt.yticks([1, 10, 100, 1000], ['1', '10', '100', '1000'])\n",
    "plot_hist_days(data, 'history', 'user history(days)')"
   ]
  },
  {
   "cell_type": "markdown",
   "id": "7e8a6f5f",
   "metadata": {},
   "source": [
    "Pretty clear that users with long history are more likely to be adopted users."
   ]
  },
  {
   "cell_type": "code",
   "execution_count": 31,
   "id": "dd5f5f94",
   "metadata": {},
   "outputs": [
    {
     "data": {
      "image/png": "[encoded data removed]",
      "text/plain": [
       "<Figure size 640x480 with 1 Axes>"
      ]
     },
     "metadata": {},
     "output_type": "display_data"
    }
   ],
   "source": [
    "plot_hist_days(data, 'account_age', 'account age(days)')"
   ]
  },
  {
   "cell_type": "markdown",
   "id": "a2a400c8",
   "metadata": {},
   "source": [
    "Not surprisingly, the adoption rate is lower in very new accounts. Other than that, the adoption rate didn't change much over the past two years."
   ]
  },
  {
   "cell_type": "markdown",
   "id": "f4e78fb9",
   "metadata": {},
   "source": [
    "## 3 Predictive Modeling"
   ]
  },
  {
   "cell_type": "code",
   "execution_count": 32,
   "id": "5f326a1d",
   "metadata": {},
   "outputs": [],
   "source": [
    "# make dummy variable for creation source\n",
    "creation_source = pd.get_dummies(data['creation_source'], drop_first=True)\n",
    "model_data = pd.concat([data, creation_source], axis=1).drop('creation_source', axis=1)\n",
    "y = model_data['adopted_user']\n",
    "X = model_data.drop('adopted_user', axis=1)\n",
    "# though account_age and history have different scales than other features,\n",
    "# I plan to use random forest model, which is not affectd by the different scales\n",
    "# no need to scale the data\n",
    "# create training and testing sets\n",
    "from sklearn.model_selection import train_test_split\n",
    "Xtrain, Xtest, ytrain, ytest = train_test_split(\n",
    "    X, y, stratify=y, random_state=42)"
   ]
  },
  {
   "cell_type": "code",
   "execution_count": 37,
   "id": "92eb97c2",
   "metadata": {},
   "outputs": [
    {
     "name": "stdout",
     "output_type": "stream",
     "text": [
      "Best parameters were {'n_estimators': 100}\n",
      "Best average precision was 0.9623700369708137\n"
     ]
    }
   ],
   "source": [
    "# use random forest model with balanced class weights to correct for imbalance in the data\n",
    "from sklearn.ensemble import RandomForestClassifier\n",
    "from sklearn.model_selection import GridSearchCV\n",
    "clf = RandomForestClassifier(random_state=42, class_weight='balanced')\n",
    "# use CV to tune number of trees\n",
    "params = {'n_estimators': [10, 50, 100, 200]}\n",
    "model = GridSearchCV(clf, params)\n",
    "model.fit(Xtrain, ytrain)\n",
    "print('Best parameters were', model.best_params_)\n",
    "print('Best average precision was', model.best_score_)"
   ]
  },
  {
   "cell_type": "code",
   "execution_count": 38,
   "id": "b962bc0f",
   "metadata": {},
   "outputs": [
    {
     "name": "stdout",
     "output_type": "stream",
     "text": [
      "Accuracy of test set was 0.9524025385312783\n",
      "              precision    recall  f1-score   support\n",
      "\n",
      "           0       0.97      0.97      0.97      1792\n",
      "           1       0.88      0.86      0.87       414\n",
      "\n",
      "    accuracy                           0.95      2206\n",
      "   macro avg       0.92      0.92      0.92      2206\n",
      "weighted avg       0.95      0.95      0.95      2206\n",
      "\n"
     ]
    }
   ],
   "source": [
    "# evluation of the model\n",
    "from sklearn.metrics import classification_report, accuracy_score\n",
    "model = RandomForestClassifier(\n",
    "    random_state=42, class_weight='balanced', n_estimators=100\n",
    ")\n",
    "model.fit(Xtrain, ytrain)\n",
    "ypred = model.predict(Xtest)\n",
    "print('Accuracy of test set was', accuracy_score(ytest, ypred))\n",
    "print(classification_report(ytest, ypred))"
   ]
  },
  {
   "cell_type": "code",
   "execution_count": 39,
   "id": "a8b51a5a",
   "metadata": {},
   "outputs": [
    {
     "name": "stdout",
     "output_type": "stream",
     "text": [
      "Accuracy of test set was 0.9524025385312783\n",
      "              precision    recall  f1-score   support\n",
      "\n",
      "           0       0.97      0.97      0.97      1792\n",
      "           1       0.88      0.86      0.87       414\n",
      "\n",
      "    accuracy                           0.95      2206\n",
      "   macro avg       0.92      0.92      0.92      2206\n",
      "weighted avg       0.95      0.95      0.95      2206\n",
      "\n"
     ]
    }
   ],
   "source": [
    "# evluation of the model\n",
    "from sklearn.metrics import classification_report, accuracy_score\n",
    "model = RandomForestClassifier(\n",
    "    random_state=42, class_weight='balanced', n_estimators=100\n",
    ")\n",
    "model.fit(Xtrain, ytrain)\n",
    "ypred = model.predict(Xtest)\n",
    "print('Accuracy of test set was', accuracy_score(ytest, ypred))\n",
    "print(classification_report(ytest, ypred))"
   ]
  },
  {
   "cell_type": "code",
   "execution_count": 40,
   "id": "f1783ee0",
   "metadata": {},
   "outputs": [
    {
     "name": "stdout",
     "output_type": "stream",
     "text": [
      "history                       0.895648\n",
      "account_age                   0.088648\n",
      "opted_in_to_mailing_list      0.003301\n",
      "SIGNUP                        0.003050\n",
      "enabled_for_marketing_drip    0.002900\n",
      "ORG_INVITE                    0.002355\n",
      "PERSONAL_PROJECTS             0.002157\n",
      "SIGNUP_GOOGLE_AUTH            0.001942\n",
      "dtype: float64\n"
     ]
    }
   ],
   "source": [
    "# take a look at feature importance\n",
    "imp = pd.Series(model.feature_importances_, index=X.columns)\n",
    "imp = imp.sort_values(ascending=False)\n",
    "print(imp)"
   ]
  },
  {
   "cell_type": "markdown",
   "id": "aa1f4636",
   "metadata": {},
   "source": [
    "It is clear that the user history is the most important feature. Based on this, I recommend that an effective way of growing adopted users might be encouraging existing users to log in and use the software after they had accounts for a while.\n",
    "The next important feature is how user signed up (if you add the importances of the four signup features above). Among the ways they sign up, guest inviation and personal projects are the two categories with highest user adoption rate. Encouraging users to invite others, and offering incentives for people to work on their personal projects using the software might be somewhat effective.\n",
    "Account age has some importance, but there is nothing can be done to change that.\n",
    "Mailing list and marketing drip are not effective."
   ]
  }
 ],
 "metadata": {
  "kernelspec": {
   "display_name": "Python 3 (ipykernel)",
   "language": "python",
   "name": "python3"
  },
  "language_info": {
   "codemirror_mode": {
    "name": "ipython",
    "version": 3
   },
   "file_extension": ".py",
   "mimetype": "text/x-python",
   "name": "python",
   "nbconvert_exporter": "python",
   "pygments_lexer": "ipython3",
   "version": "3.9.13"
  }
 },
 "nbformat": 4,
 "nbformat_minor": 5
}
