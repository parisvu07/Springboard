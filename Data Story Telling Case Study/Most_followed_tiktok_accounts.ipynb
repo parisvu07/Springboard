{
 "cells": [
  {
   "cell_type": "markdown",
   "id": "8ef097cd",
   "metadata": {},
   "source": [
    "# Data Story Telling on the 50 most-followed TikTok accounts"
   ]
  },
  {
   "cell_type": "markdown",
   "id": "469bd267",
   "metadata": {},
   "source": [
    "In this notebook, we will be focusing on data visualization and drawing insights from the top 50 most-followed TikTok accounts. Due to the infinite evolution of e-commerce and digital marketing strategies, social media reputation have proved to be a vital part in every organizations. In fact, most medium to large organizations now resort to social media influencers as their primary marketing strategy. Due to this, knowing which influencer and how their funnels can help the organization is incredibly important. "
   ]
  },
  {
   "cell_type": "markdown",
   "id": "ff7e70a0",
   "metadata": {},
   "source": [
    "## 1.1 Import"
   ]
  },
  {
   "cell_type": "markdown",
   "id": "2c065564",
   "metadata": {},
   "source": [
    "Importing necessary libraries"
   ]
  },
  {
   "cell_type": "code",
   "execution_count": 1,
   "id": "3a77e7b2",
   "metadata": {},
   "outputs": [],
   "source": [
    "import pandas as pd\n",
    "import numpy as np\n",
    "import os\n",
    "import matplotlib.pyplot as plt\n",
    "import seaborn as sns\n",
    "from wordcloud import WordCloud\n",
    "from sklearn.decomposition import PCA\n",
    "from sklearn.preprocessing import scale"
   ]
  },
  {
   "cell_type": "markdown",
   "id": "89f304b3",
   "metadata": {},
   "source": [
    "The following table lists the 50 most-followed accounts on TikTok, with each follower total rounded down to the nearest hundred thousand, as well as a description of each account and their country of origin."
   ]
  },
  {
   "cell_type": "code",
   "execution_count": 2,
   "id": "37ba5adf",
   "metadata": {
    "scrolled": false
   },
   "outputs": [
    {
     "data": {
      "text/html": [
       "<div>\n",
       "<style scoped>\n",
       "    .dataframe tbody tr th:only-of-type {\n",
       "        vertical-align: middle;\n",
       "    }\n",
       "\n",
       "    .dataframe tbody tr th {\n",
       "        vertical-align: top;\n",
       "    }\n",
       "\n",
       "    .dataframe thead th {\n",
       "        text-align: right;\n",
       "    }\n",
       "</style>\n",
       "<table border=\"1\" class=\"dataframe\">\n",
       "  <thead>\n",
       "    <tr style=\"text-align: right;\">\n",
       "      <th></th>\n",
       "      <th>Rank</th>\n",
       "      <th>Username</th>\n",
       "      <th>Owner</th>\n",
       "      <th>Followers\\n(millions)</th>\n",
       "      <th>Description</th>\n",
       "      <th>Country</th>\n",
       "      <th>Brand\\nAccount</th>\n",
       "    </tr>\n",
       "  </thead>\n",
       "  <tbody>\n",
       "    <tr>\n",
       "      <th>0</th>\n",
       "      <td>1</td>\n",
       "      <td>@khaby.lame</td>\n",
       "      <td>Khabane Lame</td>\n",
       "      <td>153.3</td>\n",
       "      <td>Social media personality</td>\n",
       "      <td>Italy Senegal</td>\n",
       "      <td>-</td>\n",
       "    </tr>\n",
       "    <tr>\n",
       "      <th>1</th>\n",
       "      <td>2</td>\n",
       "      <td>@charlidamelio</td>\n",
       "      <td>Charli D'Amelio</td>\n",
       "      <td>149.3</td>\n",
       "      <td>Dancer and social media personality</td>\n",
       "      <td>United States</td>\n",
       "      <td>-</td>\n",
       "    </tr>\n",
       "    <tr>\n",
       "      <th>2</th>\n",
       "      <td>3</td>\n",
       "      <td>@bellapoarch</td>\n",
       "      <td>Bella Poarch</td>\n",
       "      <td>92.5</td>\n",
       "      <td>Singer and social media personality</td>\n",
       "      <td>Philippines United States</td>\n",
       "      <td>-</td>\n",
       "    </tr>\n",
       "    <tr>\n",
       "      <th>3</th>\n",
       "      <td>4</td>\n",
       "      <td>@addisonre</td>\n",
       "      <td>Addison Rae</td>\n",
       "      <td>88.8</td>\n",
       "      <td>Social media personality and dancer</td>\n",
       "      <td>United States</td>\n",
       "      <td>-</td>\n",
       "    </tr>\n",
       "    <tr>\n",
       "      <th>4</th>\n",
       "      <td>5</td>\n",
       "      <td>@willsmith</td>\n",
       "      <td>Will Smith</td>\n",
       "      <td>72.9</td>\n",
       "      <td>Actor and film producer</td>\n",
       "      <td>United States</td>\n",
       "      <td>-</td>\n",
       "    </tr>\n",
       "  </tbody>\n",
       "</table>\n",
       "</div>"
      ],
      "text/plain": [
       "   Rank        Username            Owner  Followers\\n(millions)  \\\n",
       "0     1     @khaby.lame     Khabane Lame                  153.3   \n",
       "1     2  @charlidamelio  Charli D'Amelio                  149.3   \n",
       "2     3    @bellapoarch     Bella Poarch                   92.5   \n",
       "3     4      @addisonre      Addison Rae                   88.8   \n",
       "4     5      @willsmith       Will Smith                   72.9   \n",
       "\n",
       "                           Description                     Country  \\\n",
       "0             Social media personality               Italy Senegal   \n",
       "1  Dancer and social media personality               United States   \n",
       "2  Singer and social media personality   Philippines United States   \n",
       "3  Social media personality and dancer               United States   \n",
       "4              Actor and film producer               United States   \n",
       "\n",
       "  Brand\\nAccount  \n",
       "0              -  \n",
       "1              -  \n",
       "2              -  \n",
       "3              -  \n",
       "4              -  "
      ]
     },
     "execution_count": 2,
     "metadata": {},
     "output_type": "execute_result"
    }
   ],
   "source": [
    "tiktok_most_followed = pd.read_csv('List of most-followed TikTok accounts.csv')\n",
    "tiktok_most_followed.head()\n",
    "\n",
    "#Since rank represents the account ranking from 1-50, we cannot set it as the index"
   ]
  },
  {
   "cell_type": "code",
   "execution_count": 3,
   "id": "1ae03c40",
   "metadata": {
    "scrolled": true
   },
   "outputs": [
    {
     "data": {
      "text/html": [
       "<div>\n",
       "<style scoped>\n",
       "    .dataframe tbody tr th:only-of-type {\n",
       "        vertical-align: middle;\n",
       "    }\n",
       "\n",
       "    .dataframe tbody tr th {\n",
       "        vertical-align: top;\n",
       "    }\n",
       "\n",
       "    .dataframe thead th {\n",
       "        text-align: right;\n",
       "    }\n",
       "</style>\n",
       "<table border=\"1\" class=\"dataframe\">\n",
       "  <thead>\n",
       "    <tr style=\"text-align: right;\">\n",
       "      <th></th>\n",
       "      <th>authorMeta/avatar</th>\n",
       "      <th>authorMeta/digg</th>\n",
       "      <th>authorMeta/fans</th>\n",
       "      <th>authorMeta/following</th>\n",
       "      <th>authorMeta/heart</th>\n",
       "      <th>authorMeta/id</th>\n",
       "      <th>authorMeta/name</th>\n",
       "      <th>authorMeta/nickName</th>\n",
       "      <th>authorMeta/signature</th>\n",
       "      <th>authorMeta/verified</th>\n",
       "      <th>...</th>\n",
       "      <th>musicMeta/playUrl</th>\n",
       "      <th>playCount</th>\n",
       "      <th>searchHashtag/name</th>\n",
       "      <th>searchHashtag/views</th>\n",
       "      <th>shareCount</th>\n",
       "      <th>text</th>\n",
       "      <th>videoMeta/duration</th>\n",
       "      <th>videoMeta/height</th>\n",
       "      <th>videoMeta/width</th>\n",
       "      <th>webVideoUrl</th>\n",
       "    </tr>\n",
       "  </thead>\n",
       "  <tbody>\n",
       "    <tr>\n",
       "      <th>0</th>\n",
       "      <td>https://p16-sign-sg.tiktokcdn.com/aweme/720x72...</td>\n",
       "      <td>420</td>\n",
       "      <td>13200000</td>\n",
       "      <td>28</td>\n",
       "      <td>150400000</td>\n",
       "      <td>6713126981665686530</td>\n",
       "      <td>miso_ara</td>\n",
       "      <td>미소아라 Miso_Ara</td>\n",
       "      <td>soonent@soon-ent.co.kr\\n.\\n Miso Ara IG</td>\n",
       "      <td>True</td>\n",
       "      <td>...</td>\n",
       "      <td>https://sf16-ies-music-sg.tiktokcdn.com/obj/ti...</td>\n",
       "      <td>200600000</td>\n",
       "      <td>meme</td>\n",
       "      <td>556B</td>\n",
       "      <td>377700</td>\n",
       "      <td>Ara Woah  #woah  #woahchallenge  #foryou  #fyp...</td>\n",
       "      <td>17</td>\n",
       "      <td>1280</td>\n",
       "      <td>720</td>\n",
       "      <td>https://www.tiktok.com/@miso_ara/video/6797294...</td>\n",
       "    </tr>\n",
       "    <tr>\n",
       "      <th>1</th>\n",
       "      <td>https://p16-sign-va.tiktokcdn.com/tos-maliva-a...</td>\n",
       "      <td>10800</td>\n",
       "      <td>1300000</td>\n",
       "      <td>182</td>\n",
       "      <td>35100000</td>\n",
       "      <td>6929583089811522566</td>\n",
       "      <td>crinka11</td>\n",
       "      <td>Chris Rinker</td>\n",
       "      <td>insta: chrisrinker73</td>\n",
       "      <td>False</td>\n",
       "      <td>...</td>\n",
       "      <td>https://sf16-ies-music-va.tiktokcdn.com/obj/mu...</td>\n",
       "      <td>79600000</td>\n",
       "      <td>meme</td>\n",
       "      <td>556B</td>\n",
       "      <td>205400</td>\n",
       "      <td>#fyp #meme #funny #meme #vine</td>\n",
       "      <td>11</td>\n",
       "      <td>1024</td>\n",
       "      <td>576</td>\n",
       "      <td>https://www.tiktok.com/@crinka11/video/6958603...</td>\n",
       "    </tr>\n",
       "    <tr>\n",
       "      <th>2</th>\n",
       "      <td>https://p16-sign-va.tiktokcdn.com/tos-maliva-a...</td>\n",
       "      <td>251</td>\n",
       "      <td>696800</td>\n",
       "      <td>42</td>\n",
       "      <td>15900000</td>\n",
       "      <td>7083448802635596842</td>\n",
       "      <td>iampets_com</td>\n",
       "      <td>IamPéts</td>\n",
       "      <td>Pet supplies, toys online store. All products ...</td>\n",
       "      <td>False</td>\n",
       "      <td>...</td>\n",
       "      <td>https://sf16-ies-music-va.tiktokcdn.com/obj/ie...</td>\n",
       "      <td>106100000</td>\n",
       "      <td>meme</td>\n",
       "      <td>556B</td>\n",
       "      <td>323000</td>\n",
       "      <td>The end #funny #funnyvideos #animals #haha #me...</td>\n",
       "      <td>25</td>\n",
       "      <td>1024</td>\n",
       "      <td>576</td>\n",
       "      <td>https://www.tiktok.com/@iampets_com/video/7083...</td>\n",
       "    </tr>\n",
       "    <tr>\n",
       "      <th>3</th>\n",
       "      <td>https://p16-sign-va.tiktokcdn.com/tos-maliva-a...</td>\n",
       "      <td>218</td>\n",
       "      <td>510200</td>\n",
       "      <td>56</td>\n",
       "      <td>32100000</td>\n",
       "      <td>7087287470497645573</td>\n",
       "      <td>dailydosevideos_</td>\n",
       "      <td>dailydosevideos</td>\n",
       "      <td>Daily dose of videos/memes \\nsupport the page ...</td>\n",
       "      <td>False</td>\n",
       "      <td>...</td>\n",
       "      <td>https://sf16-ies-music-va.tiktokcdn.com/obj/mu...</td>\n",
       "      <td>72500000</td>\n",
       "      <td>meme</td>\n",
       "      <td>556B</td>\n",
       "      <td>133400</td>\n",
       "      <td>Try not to laugh  hard #meme #trynottolaughtik...</td>\n",
       "      <td>62</td>\n",
       "      <td>1024</td>\n",
       "      <td>576</td>\n",
       "      <td>https://www.tiktok.com/@dailydosevideos_/video...</td>\n",
       "    </tr>\n",
       "    <tr>\n",
       "      <th>4</th>\n",
       "      <td>https://p19-sign.tiktokcdn-us.com/tos-useast5-...</td>\n",
       "      <td>47600</td>\n",
       "      <td>3300000</td>\n",
       "      <td>690</td>\n",
       "      <td>137300000</td>\n",
       "      <td>6621521206107717638</td>\n",
       "      <td>jakeypoov</td>\n",
       "      <td>Jake Sherman</td>\n",
       "      <td>-.-- --- ..- .-. .     .-.. --- ...- . -..    ...</td>\n",
       "      <td>True</td>\n",
       "      <td>...</td>\n",
       "      <td>https://sf16-ies-music-va.tiktokcdn.com/obj/mu...</td>\n",
       "      <td>62700000</td>\n",
       "      <td>meme</td>\n",
       "      <td>556B</td>\n",
       "      <td>252900</td>\n",
       "      <td>HE DIDN’T HAVE HIS MASK ON  @abbysherm (Follow...</td>\n",
       "      <td>36</td>\n",
       "      <td>1024</td>\n",
       "      <td>576</td>\n",
       "      <td>https://www.tiktok.com/@jakeypoov/video/681538...</td>\n",
       "    </tr>\n",
       "  </tbody>\n",
       "</table>\n",
       "<p>5 rows × 52 columns</p>\n",
       "</div>"
      ],
      "text/plain": [
       "                                   authorMeta/avatar  authorMeta/digg  \\\n",
       "0  https://p16-sign-sg.tiktokcdn.com/aweme/720x72...              420   \n",
       "1  https://p16-sign-va.tiktokcdn.com/tos-maliva-a...            10800   \n",
       "2  https://p16-sign-va.tiktokcdn.com/tos-maliva-a...              251   \n",
       "3  https://p16-sign-va.tiktokcdn.com/tos-maliva-a...              218   \n",
       "4  https://p19-sign.tiktokcdn-us.com/tos-useast5-...            47600   \n",
       "\n",
       "   authorMeta/fans  authorMeta/following  authorMeta/heart  \\\n",
       "0         13200000                    28         150400000   \n",
       "1          1300000                   182          35100000   \n",
       "2           696800                    42          15900000   \n",
       "3           510200                    56          32100000   \n",
       "4          3300000                   690         137300000   \n",
       "\n",
       "         authorMeta/id   authorMeta/name authorMeta/nickName  \\\n",
       "0  6713126981665686530          miso_ara       미소아라 Miso_Ara   \n",
       "1  6929583089811522566          crinka11        Chris Rinker   \n",
       "2  7083448802635596842       iampets_com             IamPéts   \n",
       "3  7087287470497645573  dailydosevideos_     dailydosevideos   \n",
       "4  6621521206107717638         jakeypoov        Jake Sherman   \n",
       "\n",
       "                                authorMeta/signature  authorMeta/verified  \\\n",
       "0            soonent@soon-ent.co.kr\\n.\\n Miso Ara IG                 True   \n",
       "1                               insta: chrisrinker73                False   \n",
       "2  Pet supplies, toys online store. All products ...                False   \n",
       "3  Daily dose of videos/memes \\nsupport the page ...                False   \n",
       "4  -.-- --- ..- .-. .     .-.. --- ...- . -..    ...                 True   \n",
       "\n",
       "   ...                                  musicMeta/playUrl  playCount  \\\n",
       "0  ...  https://sf16-ies-music-sg.tiktokcdn.com/obj/ti...  200600000   \n",
       "1  ...  https://sf16-ies-music-va.tiktokcdn.com/obj/mu...   79600000   \n",
       "2  ...  https://sf16-ies-music-va.tiktokcdn.com/obj/ie...  106100000   \n",
       "3  ...  https://sf16-ies-music-va.tiktokcdn.com/obj/mu...   72500000   \n",
       "4  ...  https://sf16-ies-music-va.tiktokcdn.com/obj/mu...   62700000   \n",
       "\n",
       "   searchHashtag/name searchHashtag/views  shareCount  \\\n",
       "0                meme                556B      377700   \n",
       "1                meme                556B      205400   \n",
       "2                meme                556B      323000   \n",
       "3                meme                556B      133400   \n",
       "4                meme                556B      252900   \n",
       "\n",
       "                                                text  videoMeta/duration  \\\n",
       "0  Ara Woah  #woah  #woahchallenge  #foryou  #fyp...                  17   \n",
       "1                      #fyp #meme #funny #meme #vine                  11   \n",
       "2  The end #funny #funnyvideos #animals #haha #me...                  25   \n",
       "3  Try not to laugh  hard #meme #trynottolaughtik...                  62   \n",
       "4  HE DIDN’T HAVE HIS MASK ON  @abbysherm (Follow...                  36   \n",
       "\n",
       "  videoMeta/height  videoMeta/width  \\\n",
       "0             1280              720   \n",
       "1             1024              576   \n",
       "2             1024              576   \n",
       "3             1024              576   \n",
       "4             1024              576   \n",
       "\n",
       "                                         webVideoUrl  \n",
       "0  https://www.tiktok.com/@miso_ara/video/6797294...  \n",
       "1  https://www.tiktok.com/@crinka11/video/6958603...  \n",
       "2  https://www.tiktok.com/@iampets_com/video/7083...  \n",
       "3  https://www.tiktok.com/@dailydosevideos_/video...  \n",
       "4  https://www.tiktok.com/@jakeypoov/video/681538...  \n",
       "\n",
       "[5 rows x 52 columns]"
      ]
     },
     "execution_count": 3,
     "metadata": {},
     "output_type": "execute_result"
    }
   ],
   "source": [
    "tiktok_hashtag = pd.read_excel('tiktok_hashtags.xlsx')\n",
    "tiktok_hashtag.head()"
   ]
  },
  {
   "cell_type": "markdown",
   "id": "2dfaab42",
   "metadata": {},
   "source": [
    "### 1.1.2 Cleaning Hashtag Dataset"
   ]
  },
  {
   "cell_type": "code",
   "execution_count": null,
   "id": "ab1bfab2",
   "metadata": {},
   "outputs": [],
   "source": []
  },
  {
   "cell_type": "code",
   "execution_count": 4,
   "id": "210433be",
   "metadata": {},
   "outputs": [
    {
     "ename": "NameError",
     "evalue": "name 'tiktok' is not defined",
     "output_type": "error",
     "traceback": [
      "\u001b[0;31m---------------------------------------------------------------------------\u001b[0m",
      "\u001b[0;31mNameError\u001b[0m                                 Traceback (most recent call last)",
      "\u001b[0;32m/var/folders/v3/zfqmnfxs5z3dkfs5cn70l8bh0000gn/T/ipykernel_24713/4200861657.py\u001b[0m in \u001b[0;36m<module>\u001b[0;34m\u001b[0m\n\u001b[1;32m      1\u001b[0m \u001b[0;31m#Renaming columns\u001b[0m\u001b[0;34m\u001b[0m\u001b[0;34m\u001b[0m\u001b[0m\n\u001b[0;32m----> 2\u001b[0;31m \u001b[0mtiktok\u001b[0m\u001b[0;34m.\u001b[0m\u001b[0mcolumns\u001b[0m \u001b[0;34m=\u001b[0m \u001b[0;34m[\u001b[0m\u001b[0;34m'Rank'\u001b[0m\u001b[0;34m,\u001b[0m \u001b[0;34m'Username'\u001b[0m\u001b[0;34m,\u001b[0m \u001b[0;34m'Owner'\u001b[0m\u001b[0;34m,\u001b[0m \u001b[0;34m'Followers'\u001b[0m\u001b[0;34m,\u001b[0m \u001b[0;34m'Account_type'\u001b[0m\u001b[0;34m,\u001b[0m \u001b[0;34m'Country'\u001b[0m\u001b[0;34m,\u001b[0m \u001b[0;34m'Brand'\u001b[0m\u001b[0;34m]\u001b[0m\u001b[0;34m\u001b[0m\u001b[0;34m\u001b[0m\u001b[0m\n\u001b[0m",
      "\u001b[0;31mNameError\u001b[0m: name 'tiktok' is not defined"
     ]
    }
   ],
   "source": [
    "#Renaming columns\n",
    "tiktok.columns = ['Rank', 'Username', 'Owner', 'Followers', 'Account_type', 'Country', 'Brand']"
   ]
  },
  {
   "cell_type": "code",
   "execution_count": null,
   "id": "4dfaae36",
   "metadata": {
    "scrolled": true
   },
   "outputs": [],
   "source": [
    "#Like every other datasets, checking for null values is a must\n",
    "tiktok.info()"
   ]
  },
  {
   "cell_type": "code",
   "execution_count": null,
   "id": "1a7766f9",
   "metadata": {
    "scrolled": true
   },
   "outputs": [],
   "source": [
    "#Checking for unique values for each column\n",
    "tiktok.nunique()"
   ]
  },
  {
   "cell_type": "markdown",
   "id": "556f5fab",
   "metadata": {},
   "source": [
    "## 1.2 Exploration"
   ]
  },
  {
   "cell_type": "markdown",
   "id": "affa9fc8",
   "metadata": {},
   "source": [
    "If the Company can only choose 1 out of these 50 TikTok account to market their product, who would it be and why? The below exploratory data analysis will answer a series of question that could help stakeholders choose which accounts to contact."
   ]
  },
  {
   "cell_type": "markdown",
   "id": "c53e5b4b",
   "metadata": {},
   "source": [
    "### 1.2.1 What is the most popular account type among the 50 most-followed accounts?"
   ]
  },
  {
   "cell_type": "markdown",
   "id": "a57549ad",
   "metadata": {},
   "source": [
    "To answer this, we will be plotting a bar chart of Type of Account vs. the Number of Followers"
   ]
  },
  {
   "cell_type": "code",
   "execution_count": null,
   "id": "faa6fb6d",
   "metadata": {},
   "outputs": [],
   "source": [
    "x_axis = tiktok['Account_type']\n",
    "y_axis = tiktok['Followers']\n",
    "\n",
    "plt.figure(figsize=(15,3))\n",
    "plt.bar(x_axis, y_axis)\n",
    "plt.title('Most popular account type')\n",
    "plt.xlabel('Account type')\n",
    "plt.ylabel('Followers (thousands)')\n",
    "plt.xticks(rotation=90)\n",
    "plt.show()"
   ]
  },
  {
   "cell_type": "markdown",
   "id": "9ae69090",
   "metadata": {},
   "source": [
    "We can see that \"Social media personality\" is the most popular account type, but that doesn't really tell us what makes the account so appealing. We can also see that the word \"Social media\" appears in almost every categories. To confirm this, let's generate a word cloud in the next sub-section to see what's the most popular word."
   ]
  },
  {
   "cell_type": "markdown",
   "id": "909c8be2",
   "metadata": {},
   "source": [
    "### 1.2.2 Does the number followers correlate with the account identity?"
   ]
  },
  {
   "cell_type": "code",
   "execution_count": null,
   "id": "5654edb8",
   "metadata": {},
   "outputs": [],
   "source": [
    "text = \" \".join(cat for cat in tiktok.Account_type)\n",
    "word_cloud = WordCloud(collocations = False, background_color = 'white').generate(text)\n",
    "plt.figure()\n",
    "plt.imshow(word_cloud, interpolation=\"bilinear\")\n",
    "plt.axis(\"off\")\n",
    "plt.show()"
   ]
  },
  {
   "cell_type": "markdown",
   "id": "9ce10e3e",
   "metadata": {},
   "source": [
    "The wordcloud above has proved that \"social media\" and \"personality\" are the most common descriptions for these accounts. Thus, having the account type as social media or personality, or both, do not generate much insights about the account holder and their potential customer reach. The Company needs to find an account that carries a certain niche, for example, we need a sport practicioner to advocate for sport drink, not a comedian."
   ]
  },
  {
   "cell_type": "code",
   "execution_count": null,
   "id": "940be7c3",
   "metadata": {},
   "outputs": [],
   "source": [
    "#Dropping \"social media\" and \"personality\" from \"Account type\"\n",
    "tiktok['Account_type'] = tiktok['Account_type'].str.lower()\n",
    "tiktok['Account_type'] = tiktok['Account_type'].str.replace('social media','')\n",
    "tiktok['Account_type'] = tiktok['Account_type'].str.replace('personality','')\n",
    "\n",
    "#Dropping the stopword \"and\"\n",
    "tiktok['Account_type'] = tiktok['Account_type'].str.replace('and','')\n",
    "\n",
    "tiktok.head()"
   ]
  },
  {
   "cell_type": "markdown",
   "id": "4fa9f37f",
   "metadata": {},
   "source": [
    "Generating the wordcloud again to see the next most-followed account type"
   ]
  },
  {
   "cell_type": "code",
   "execution_count": null,
   "id": "6de36d1d",
   "metadata": {},
   "outputs": [],
   "source": [
    "text = \" \".join(cat for cat in tiktok.Account_type)\n",
    "word_cloud = WordCloud(collocations = False, background_color = 'white').generate(text)\n",
    "plt.figure()\n",
    "plt.imshow(word_cloud, interpolation=\"bilinear\")\n",
    "plt.axis(\"off\")\n",
    "plt.show()"
   ]
  },
  {
   "cell_type": "markdown",
   "id": "07ba8715",
   "metadata": {},
   "source": [
    "Now that we know singer, dancer, actress, and songwriter are the most-followed account type, let's find their locations!"
   ]
  },
  {
   "cell_type": "markdown",
   "id": "b13ad4cd",
   "metadata": {},
   "source": [
    "### 1.2.3 Which country has the most-followed accounts?"
   ]
  },
  {
   "cell_type": "code",
   "execution_count": null,
   "id": "8a894829",
   "metadata": {},
   "outputs": [],
   "source": [
    "#Look at the countries that these account-holders live in\n",
    "popular_country = pd.concat([tiktok.Country.value_counts(), 100 * tiktok.Country.value_counts()/len(tiktok.Country)], axis=1)\n",
    "popular_country.columns=['count','%']\n",
    "popular_country.sort_values(by=['%'], ascending=False) "
   ]
  },
  {
   "cell_type": "code",
   "execution_count": null,
   "id": "cf2ae0cd",
   "metadata": {},
   "outputs": [],
   "source": []
  }
 ],
 "metadata": {
  "kernelspec": {
   "display_name": "Python 3 (ipykernel)",
   "language": "python",
   "name": "python3"
  },
  "language_info": {
   "codemirror_mode": {
    "name": "ipython",
    "version": 3
   },
   "file_extension": ".py",
   "mimetype": "text/x-python",
   "name": "python",
   "nbconvert_exporter": "python",
   "pygments_lexer": "ipython3",
   "version": "3.9.13"
  }
 },
 "nbformat": 4,
 "nbformat_minor": 5
}
