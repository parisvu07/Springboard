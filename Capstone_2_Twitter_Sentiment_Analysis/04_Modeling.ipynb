{
 "cells": [
  {
   "cell_type": "markdown",
   "id": "c5f4429d",
   "metadata": {},
   "source": [
    "# Twitter Sentiment Analysis - 04 Modeling"
   ]
  },
  {
   "cell_type": "markdown",
   "id": "2117bd73",
   "metadata": {},
   "source": [
    "The stock market is a focus for investors to maximize their potential profits and consequently, the interest shown from the technical and financial sides in stock market prediction is always on the rise. However, stock market prediction is a problem known for its challenging nature due to its dependency on diverse factors that affect the market, these factors are unpredictable and cannot be taken into consideration such as political variables, and social media effects such as twitter on the stock market.\n",
    "\n",
    "In this final part of this project, we will combine the stock data and its features, with vectorized representation of the tweets for the month of December 2022 to predict whether or not the adjusted closing price at the end of a trading-day is greater than or less than the previous trading-day. Models run are Logistic Regression, SVM, Random Forest, and Naive Bayes.\n",
    "\n",
    "Two types of predictions: \n",
    "1. Using overall daily tweet sentiment scores to predict adjusted closing price\n",
    "2. Using vectorized representation of tweets to predict adjusted closing price\n",
    "\n",
    "**Link(s) to previous notebook(s)**: \\\n",
    "00_Historical_Data_2014: https://github.com/parisvu07/Springboard_Data_Science/tree/main/Capstone_2_Twitter_Sentiment_Analysis \\\n",
    "01_Data_Wrangling:\n",
    "https://github.com/parisvu07/Springboard/blob/main/Capstone_2_Twitter_Sentiment_Analysis/01_Data_Wrangling.ipynb \\\n",
    "02_Exploratory_Data_Analysis: https://github.com/parisvu07/Springboard/blob/main/Capstone_2_Twitter_Sentiment_Analysis/02_Exploratory_Data_Analysis.ipynb \\\n",
    "03_Preprocessing_and_Training_Data: https://github.com/parisvu07/Springboard/blob/main/Capstone_2_Twitter_Sentiment_Analysis/03_Preprocessing_and_Training_Data.ipynb\n",
    "\n",
    "Quick fix for \"Unable to render rich display\": copy and paste the notebook link to https://nbviewer.org"
   ]
  },
  {
   "cell_type": "markdown",
   "id": "92b6f3a3",
   "metadata": {},
   "source": [
    "## 4.1 Importing"
   ]
  },
  {
   "cell_type": "code",
   "execution_count": 1,
   "id": "11511d6f",
   "metadata": {},
   "outputs": [],
   "source": [
    "import numpy as np\n",
    "import pandas as pd\n",
    "import matplotlib.pyplot as plt\n",
    "import seaborn as sns\n",
    "from ast import literal_eval\n",
    "\n",
    "#ignore warning messages to ensure clean outputs\n",
    "import warnings\n",
    "warnings.filterwarnings('ignore')\n",
    "\n",
    "from sklearn.model_selection import train_test_split, cross_validate, GridSearchCV, learning_curve, cross_val_score\n",
    "from sklearn.preprocessing import StandardScaler\n",
    "from sklearn.feature_extraction.text import TfidfVectorizer, CountVectorizer\n",
    "from sklearn.linear_model import LogisticRegression\n",
    "from sklearn.metrics import accuracy_score, confusion_matrix\n",
    "import sklearn.metrics as metrics\n",
    "from sklearn.ensemble import RandomForestRegressor\n",
    "from sklearn.metrics import r2_score, mean_squared_error, mean_absolute_error\n",
    "from sklearn.pipeline import make_pipeline\n",
    "from sklearn.decomposition import PCA\n",
    "\n",
    "import gensim\n",
    "from gensim.models.doc2vec import TaggedDocument\n",
    "from gensim.models import Word2Vec\n",
    "LabeledSentence = gensim.models.doc2vec.TaggedDocument\n",
    "from tqdm import tqdm\n",
    "import string\n",
    "import spacy\n",
    "np.random.seed(42)\n",
    "\n",
    "from gensim.models import KeyedVectors \n",
    "from nltk import word_tokenize\n",
    "from nltk.corpus import stopwords"
   ]
  },
  {
   "cell_type": "code",
   "execution_count": 2,
   "id": "da83c4f7",
   "metadata": {},
   "outputs": [
    {
     "data": {
      "text/html": [
       "<div>\n",
       "<style scoped>\n",
       "    .dataframe tbody tr th:only-of-type {\n",
       "        vertical-align: middle;\n",
       "    }\n",
       "\n",
       "    .dataframe tbody tr th {\n",
       "        vertical-align: top;\n",
       "    }\n",
       "\n",
       "    .dataframe thead th {\n",
       "        text-align: right;\n",
       "    }\n",
       "</style>\n",
       "<table border=\"1\" class=\"dataframe\">\n",
       "  <thead>\n",
       "    <tr style=\"text-align: right;\">\n",
       "      <th></th>\n",
       "      <th>Adj Close</th>\n",
       "      <th>stock_volume</th>\n",
       "      <th>%_change_Open</th>\n",
       "      <th>%_change_High</th>\n",
       "      <th>%_change_Low</th>\n",
       "      <th>%_change_Close</th>\n",
       "      <th>%_change_Volume</th>\n",
       "      <th>twitter_volume</th>\n",
       "    </tr>\n",
       "    <tr>\n",
       "      <th>Dates</th>\n",
       "      <th></th>\n",
       "      <th></th>\n",
       "      <th></th>\n",
       "      <th></th>\n",
       "      <th></th>\n",
       "      <th></th>\n",
       "      <th></th>\n",
       "      <th></th>\n",
       "    </tr>\n",
       "  </thead>\n",
       "  <tbody>\n",
       "    <tr>\n",
       "      <th>2022-12-01</th>\n",
       "      <td>148.309998</td>\n",
       "      <td>71250400</td>\n",
       "      <td>NaN</td>\n",
       "      <td>NaN</td>\n",
       "      <td>NaN</td>\n",
       "      <td>NaN</td>\n",
       "      <td>NaN</td>\n",
       "      <td>1451</td>\n",
       "    </tr>\n",
       "    <tr>\n",
       "      <th>2022-12-02</th>\n",
       "      <td>147.809998</td>\n",
       "      <td>65447400</td>\n",
       "      <td>-1.518116</td>\n",
       "      <td>-0.757731</td>\n",
       "      <td>-0.654803</td>\n",
       "      <td>-0.337132</td>\n",
       "      <td>-8.144516</td>\n",
       "      <td>1551</td>\n",
       "    </tr>\n",
       "    <tr>\n",
       "      <th>2022-12-05</th>\n",
       "      <td>146.630005</td>\n",
       "      <td>68826400</td>\n",
       "      <td>1.240064</td>\n",
       "      <td>1.972972</td>\n",
       "      <td>0.082396</td>\n",
       "      <td>-0.798317</td>\n",
       "      <td>5.162925</td>\n",
       "      <td>1738</td>\n",
       "    </tr>\n",
       "    <tr>\n",
       "      <th>2022-12-06</th>\n",
       "      <td>142.910004</td>\n",
       "      <td>64727200</td>\n",
       "      <td>-0.473707</td>\n",
       "      <td>-2.398619</td>\n",
       "      <td>-2.641151</td>\n",
       "      <td>-2.536999</td>\n",
       "      <td>-5.955854</td>\n",
       "      <td>2072</td>\n",
       "    </tr>\n",
       "    <tr>\n",
       "      <th>2022-12-07</th>\n",
       "      <td>140.940002</td>\n",
       "      <td>69721100</td>\n",
       "      <td>-3.318151</td>\n",
       "      <td>-2.668030</td>\n",
       "      <td>-1.352874</td>\n",
       "      <td>-1.378491</td>\n",
       "      <td>7.715304</td>\n",
       "      <td>1912</td>\n",
       "    </tr>\n",
       "  </tbody>\n",
       "</table>\n",
       "</div>"
      ],
      "text/plain": [
       "             Adj Close  stock_volume  %_change_Open  %_change_High  \\\n",
       "Dates                                                                \n",
       "2022-12-01  148.309998      71250400            NaN            NaN   \n",
       "2022-12-02  147.809998      65447400      -1.518116      -0.757731   \n",
       "2022-12-05  146.630005      68826400       1.240064       1.972972   \n",
       "2022-12-06  142.910004      64727200      -0.473707      -2.398619   \n",
       "2022-12-07  140.940002      69721100      -3.318151      -2.668030   \n",
       "\n",
       "            %_change_Low  %_change_Close  %_change_Volume  twitter_volume  \n",
       "Dates                                                                      \n",
       "2022-12-01           NaN             NaN              NaN            1451  \n",
       "2022-12-02     -0.654803       -0.337132        -8.144516            1551  \n",
       "2022-12-05      0.082396       -0.798317         5.162925            1738  \n",
       "2022-12-06     -2.641151       -2.536999        -5.955854            2072  \n",
       "2022-12-07     -1.352874       -1.378491         7.715304            1912  "
      ]
     },
     "execution_count": 2,
     "metadata": {},
     "output_type": "execute_result"
    }
   ],
   "source": [
    "#Importing stock data from notebook \"02_Exploratory_Data_Analysis\"\n",
    "stock_data = pd.read_csv('03_stock_data.csv', encoding='latin-1')\n",
    "stock_data = stock_data.set_index('Dates')\n",
    "stock_data.head()"
   ]
  },
  {
   "cell_type": "code",
   "execution_count": 3,
   "id": "cf864f4c",
   "metadata": {
    "scrolled": true
   },
   "outputs": [],
   "source": [
    "#Importing tweet data from previous notebook \"03_Preprocessing_and_Training_Data\"\n",
    "tweets_data = pd.read_csv('03_tweets_data.csv')\n",
    "tweets_data = tweets_data.dropna()"
   ]
  },
  {
   "cell_type": "code",
   "execution_count": 4,
   "id": "8e39c604",
   "metadata": {},
   "outputs": [
    {
     "data": {
      "text/html": [
       "<div>\n",
       "<style scoped>\n",
       "    .dataframe tbody tr th:only-of-type {\n",
       "        vertical-align: middle;\n",
       "    }\n",
       "\n",
       "    .dataframe tbody tr th {\n",
       "        vertical-align: top;\n",
       "    }\n",
       "\n",
       "    .dataframe thead th {\n",
       "        text-align: right;\n",
       "    }\n",
       "</style>\n",
       "<table border=\"1\" class=\"dataframe\">\n",
       "  <thead>\n",
       "    <tr style=\"text-align: right;\">\n",
       "      <th></th>\n",
       "      <th>Adj Close</th>\n",
       "      <th>stock_volume</th>\n",
       "      <th>twitter_volume</th>\n",
       "      <th>likes</th>\n",
       "      <th>Subjectivity</th>\n",
       "      <th>Polarity</th>\n",
       "      <th>Sentiment</th>\n",
       "      <th>open_trend</th>\n",
       "      <th>high_trend</th>\n",
       "      <th>low_trend</th>\n",
       "      <th>close_trend</th>\n",
       "      <th>volume_trend</th>\n",
       "      <th>Sentiment_Score</th>\n",
       "    </tr>\n",
       "    <tr>\n",
       "      <th>Dates</th>\n",
       "      <th></th>\n",
       "      <th></th>\n",
       "      <th></th>\n",
       "      <th></th>\n",
       "      <th></th>\n",
       "      <th></th>\n",
       "      <th></th>\n",
       "      <th></th>\n",
       "      <th></th>\n",
       "      <th></th>\n",
       "      <th></th>\n",
       "      <th></th>\n",
       "      <th></th>\n",
       "    </tr>\n",
       "  </thead>\n",
       "  <tbody>\n",
       "    <tr>\n",
       "      <th>2022-12-01</th>\n",
       "      <td>148.309998</td>\n",
       "      <td>71250400</td>\n",
       "      <td>1451</td>\n",
       "      <td>3.358270</td>\n",
       "      <td>0.341031</td>\n",
       "      <td>0.166630</td>\n",
       "      <td>0.418668</td>\n",
       "      <td>0</td>\n",
       "      <td>0</td>\n",
       "      <td>0</td>\n",
       "      <td>0</td>\n",
       "      <td>0</td>\n",
       "      <td>Positive</td>\n",
       "    </tr>\n",
       "    <tr>\n",
       "      <th>2022-12-02</th>\n",
       "      <td>147.809998</td>\n",
       "      <td>65447400</td>\n",
       "      <td>1551</td>\n",
       "      <td>2.422508</td>\n",
       "      <td>0.336724</td>\n",
       "      <td>0.179263</td>\n",
       "      <td>0.434727</td>\n",
       "      <td>0</td>\n",
       "      <td>0</td>\n",
       "      <td>0</td>\n",
       "      <td>0</td>\n",
       "      <td>0</td>\n",
       "      <td>Positive</td>\n",
       "    </tr>\n",
       "    <tr>\n",
       "      <th>2022-12-05</th>\n",
       "      <td>146.630005</td>\n",
       "      <td>68826400</td>\n",
       "      <td>1738</td>\n",
       "      <td>16.589788</td>\n",
       "      <td>0.285005</td>\n",
       "      <td>0.119601</td>\n",
       "      <td>0.320138</td>\n",
       "      <td>1</td>\n",
       "      <td>1</td>\n",
       "      <td>1</td>\n",
       "      <td>0</td>\n",
       "      <td>1</td>\n",
       "      <td>Negative</td>\n",
       "    </tr>\n",
       "    <tr>\n",
       "      <th>2022-12-06</th>\n",
       "      <td>142.910004</td>\n",
       "      <td>64727200</td>\n",
       "      <td>2072</td>\n",
       "      <td>3.363636</td>\n",
       "      <td>0.308533</td>\n",
       "      <td>0.138852</td>\n",
       "      <td>0.345839</td>\n",
       "      <td>0</td>\n",
       "      <td>0</td>\n",
       "      <td>0</td>\n",
       "      <td>0</td>\n",
       "      <td>0</td>\n",
       "      <td>Negative</td>\n",
       "    </tr>\n",
       "    <tr>\n",
       "      <th>2022-12-07</th>\n",
       "      <td>140.940002</td>\n",
       "      <td>69721100</td>\n",
       "      <td>1912</td>\n",
       "      <td>3.910183</td>\n",
       "      <td>0.306545</td>\n",
       "      <td>0.141816</td>\n",
       "      <td>0.385379</td>\n",
       "      <td>0</td>\n",
       "      <td>0</td>\n",
       "      <td>0</td>\n",
       "      <td>0</td>\n",
       "      <td>1</td>\n",
       "      <td>Negative</td>\n",
       "    </tr>\n",
       "  </tbody>\n",
       "</table>\n",
       "</div>"
      ],
      "text/plain": [
       "             Adj Close  stock_volume  twitter_volume      likes  Subjectivity  \\\n",
       "Dates                                                                           \n",
       "2022-12-01  148.309998      71250400            1451   3.358270      0.341031   \n",
       "2022-12-02  147.809998      65447400            1551   2.422508      0.336724   \n",
       "2022-12-05  146.630005      68826400            1738  16.589788      0.285005   \n",
       "2022-12-06  142.910004      64727200            2072   3.363636      0.308533   \n",
       "2022-12-07  140.940002      69721100            1912   3.910183      0.306545   \n",
       "\n",
       "            Polarity  Sentiment  open_trend  high_trend  low_trend  \\\n",
       "Dates                                                                \n",
       "2022-12-01  0.166630   0.418668           0           0          0   \n",
       "2022-12-02  0.179263   0.434727           0           0          0   \n",
       "2022-12-05  0.119601   0.320138           1           1          1   \n",
       "2022-12-06  0.138852   0.345839           0           0          0   \n",
       "2022-12-07  0.141816   0.385379           0           0          0   \n",
       "\n",
       "            close_trend  volume_trend Sentiment_Score  \n",
       "Dates                                                  \n",
       "2022-12-01            0             0        Positive  \n",
       "2022-12-02            0             0        Positive  \n",
       "2022-12-05            0             1        Negative  \n",
       "2022-12-06            0             0        Negative  \n",
       "2022-12-07            0             1        Negative  "
      ]
     },
     "execution_count": 4,
     "metadata": {},
     "output_type": "execute_result"
    }
   ],
   "source": [
    "#Importing merged dataframes from previous notebook \"03_Preprocessing_and_Training_Data\"\n",
    "merged_dataframes = pd.read_csv('03_merged_dataframes.csv', lineterminator='\\n')\n",
    "merged_dataframes = merged_dataframes.set_index('Dates')\n",
    "merged_dataframes.head()"
   ]
  },
  {
   "cell_type": "markdown",
   "id": "cdfba876",
   "metadata": {},
   "source": [
    "## 4.2 Modeling"
   ]
  },
  {
   "cell_type": "markdown",
   "id": "aa510934",
   "metadata": {},
   "source": [
    "This is a classification problem, in unsupervised learning. Here we have used the following classification models:\n",
    "\n",
    "Logistic Regression \\\n",
    "Random Forest \\\n",
    "Gradient Boosting \\\n",
    "Naive Bayes\n",
    "\n",
    "Evaluating the performance of a model by training and testing on the same dataset can lead to the overfitting. Hence the model evaluation is based on splitting the dataset into train and validation set. But the performance of the prediction result depends upon the random choice of the pair of (train,validation) set. Inorder to overcome that, the Cross-Validation procedure is used where under the k-fold CV approach, the training set is split into k smaller sets, where a model is trained using k-1 of the folds as training data and the model is validated on the remaining part.\n",
    "\n",
    "Classification/ Confusion Matrix: This matrix summarizes the correct and incorrect classifications that a classifier produced for a certain dataset. Rows and columns of the classification matrix correspond to the true and predicted classes respectively. The two diagonal cells (upper left, lower right) give the number of correct classifications, where the predicted class coincides with the actual class of the observation. The off diagonal cells gives the count of the misclassification. The classification matrix gives estimates of the true classification and misclassification rates.\n"
   ]
  },
  {
   "cell_type": "markdown",
   "id": "10c28406",
   "metadata": {},
   "source": [
    "Word2Vec is a collection of algorithms which can produce word embeddings. Word embeddings are vectors which describe the semantic meaning of words as points in space.\n",
    "\n"
   ]
  },
  {
   "cell_type": "code",
   "execution_count": 5,
   "id": "76243f00",
   "metadata": {},
   "outputs": [],
   "source": [
    "#loading pre-trained embedding\n",
    "wv = KeyedVectors.load('glove-twitter-200.kv')"
   ]
  },
  {
   "cell_type": "code",
   "execution_count": 6,
   "id": "997b5502",
   "metadata": {
    "scrolled": true
   },
   "outputs": [
    {
     "data": {
      "text/html": [
       "<div>\n",
       "<style scoped>\n",
       "    .dataframe tbody tr th:only-of-type {\n",
       "        vertical-align: middle;\n",
       "    }\n",
       "\n",
       "    .dataframe tbody tr th {\n",
       "        vertical-align: top;\n",
       "    }\n",
       "\n",
       "    .dataframe thead th {\n",
       "        text-align: right;\n",
       "    }\n",
       "</style>\n",
       "<table border=\"1\" class=\"dataframe\">\n",
       "  <thead>\n",
       "    <tr style=\"text-align: right;\">\n",
       "      <th></th>\n",
       "      <th>Dates</th>\n",
       "      <th>Sentiment</th>\n",
       "      <th>clean_text</th>\n",
       "      <th>tweet_lemmatized</th>\n",
       "      <th>vec</th>\n",
       "    </tr>\n",
       "  </thead>\n",
       "  <tbody>\n",
       "    <tr>\n",
       "      <th>0</th>\n",
       "      <td>2022-12-30</td>\n",
       "      <td>1.0</td>\n",
       "      <td>new yearâ  food tradition  around the world</td>\n",
       "      <td>['new', 'yearâ\\x80\\x99', 'food', 'tradition', ...</td>\n",
       "      <td>[0.018792242098632932, -0.049044443161359856, ...</td>\n",
       "    </tr>\n",
       "    <tr>\n",
       "      <th>1</th>\n",
       "      <td>2022-12-30</td>\n",
       "      <td>1.0</td>\n",
       "      <td>entrie   amp  exit  daily  \\ndi cord link belo...</td>\n",
       "      <td>['entrie', 'amp', 'exit', 'daily', 'di', 'cord...</td>\n",
       "      <td>[0.021105272420890518, -0.0418300421547089, -0...</td>\n",
       "    </tr>\n",
       "    <tr>\n",
       "      <th>2</th>\n",
       "      <td>2022-12-30</td>\n",
       "      <td>0.0</td>\n",
       "      <td>aapl  m ft   py  t la  amzn  brk b\\n\\n</td>\n",
       "      <td>['aapl', 'ft', 'py', 'la', 'amzn', 'brk', 'b']</td>\n",
       "      <td>[-0.06759836408309639, -0.04402014476860442, -...</td>\n",
       "    </tr>\n",
       "    <tr>\n",
       "      <th>3</th>\n",
       "      <td>2022-12-30</td>\n",
       "      <td>1.0</td>\n",
       "      <td>the bigge t â and maybe the be t â financi...</td>\n",
       "      <td>['bigge', 'â\\x80\\x94', 'maybe', 'â\\x80\\x94', '...</td>\n",
       "      <td>[0.044564239627447065, -0.03471527336776711, -...</td>\n",
       "    </tr>\n",
       "    <tr>\n",
       "      <th>4</th>\n",
       "      <td>2022-12-30</td>\n",
       "      <td>1.0</td>\n",
       "      <td>chatroom interm  of \\n\\nalert call  analy i ...</td>\n",
       "      <td>['chatroom', 'interm', 'alert', 'call', 'analy']</td>\n",
       "      <td>[0.02505414104089141, -0.14497853252622817, -0...</td>\n",
       "    </tr>\n",
       "  </tbody>\n",
       "</table>\n",
       "</div>"
      ],
      "text/plain": [
       "        Dates  Sentiment                                         clean_text  \\\n",
       "0  2022-12-30        1.0     new yearâ  food tradition  around the world    \n",
       "1  2022-12-30        1.0  entrie   amp  exit  daily  \\ndi cord link belo...   \n",
       "2  2022-12-30        0.0             aapl  m ft   py  t la  amzn  brk b\\n\\n   \n",
       "3  2022-12-30        1.0  the bigge t â and maybe the be t â financi...   \n",
       "4  2022-12-30        1.0    chatroom interm  of \\n\\nalert call  analy i ...   \n",
       "\n",
       "                                    tweet_lemmatized  \\\n",
       "0  ['new', 'yearâ\\x80\\x99', 'food', 'tradition', ...   \n",
       "1  ['entrie', 'amp', 'exit', 'daily', 'di', 'cord...   \n",
       "2     ['aapl', 'ft', 'py', 'la', 'amzn', 'brk', 'b']   \n",
       "3  ['bigge', 'â\\x80\\x94', 'maybe', 'â\\x80\\x94', '...   \n",
       "4   ['chatroom', 'interm', 'alert', 'call', 'analy']   \n",
       "\n",
       "                                                 vec  \n",
       "0  [0.018792242098632932, -0.049044443161359856, ...  \n",
       "1  [0.021105272420890518, -0.0418300421547089, -0...  \n",
       "2  [-0.06759836408309639, -0.04402014476860442, -...  \n",
       "3  [0.044564239627447065, -0.03471527336776711, -...  \n",
       "4  [0.02505414104089141, -0.14497853252622817, -0...  "
      ]
     },
     "execution_count": 6,
     "metadata": {},
     "output_type": "execute_result"
    }
   ],
   "source": [
    "#Because we got rid of the array before saving in notebook 03, we need to vectorize the text again\n",
    "def sent_vec(sent):\n",
    "    vector_size = wv.vector_size\n",
    "    wv_res = np.zeros(vector_size)\n",
    "    ctr = 1\n",
    "    for w in sent:\n",
    "        if w in wv:\n",
    "            ctr +=1\n",
    "            wv_res += wv[w]\n",
    "    wv_res = wv_res/ctr\n",
    "    return wv_res\n",
    "\n",
    "tweets_data['vec'] = tweets_data['tweet_lemmatized'].apply(sent_vec)\n",
    "tweets_data = tweets_data[['Dates', 'Sentiment', 'clean_text', 'tweet_lemmatized', 'vec']]\n",
    "\n",
    "tweets_data.head()"
   ]
  },
  {
   "cell_type": "markdown",
   "id": "ae8a76b9",
   "metadata": {},
   "source": [
    "word2vec can’t create a vector from a word that’s not in its vocabulary. Because of this, we need to specify “if word in model.vocab” when creating the full list of word vectors."
   ]
  },
  {
   "cell_type": "code",
   "execution_count": 7,
   "id": "2d4ced0f",
   "metadata": {},
   "outputs": [
    {
     "name": "stdout",
     "output_type": "stream",
     "text": [
      "(117841,)\n"
     ]
    }
   ],
   "source": [
    "# Grab all the tweets\n",
    "tweets = tweets_data['clean_text']\n",
    "print(tweets.shape)"
   ]
  },
  {
   "cell_type": "code",
   "execution_count": 8,
   "id": "ffabd443",
   "metadata": {},
   "outputs": [
    {
     "data": {
      "text/plain": [
       "['new',\n",
       " 'food',\n",
       " 'tradition',\n",
       " 'around',\n",
       " 'world',\n",
       " 'entrie',\n",
       " 'amp',\n",
       " 'exit',\n",
       " 'daily',\n",
       " 'di']"
      ]
     },
     "execution_count": 8,
     "metadata": {},
     "output_type": "execute_result"
    }
   ],
   "source": [
    "#Create a list of strings, where each string is a tweet\n",
    "tweets_list = [tweet for tweet in tweets]\n",
    "\n",
    "#Collapse the list of strings into a single long string for processing\n",
    "big_tweet_string = ' '.join(tweets_list)\n",
    "\n",
    "#Tokenize the string into words\n",
    "from nltk.tokenize import word_tokenize\n",
    "tokens = word_tokenize(big_tweet_string)\n",
    "\n",
    "#Remove non-alphabetic tokens, such as punctuation\n",
    "words = [word.lower() for word in tokens if word.isalpha()]\n",
    "\n",
    "#Filter out stopwords\n",
    "stop_words = set(stopwords.words('english'))\n",
    "\n",
    "words = [word for word in words if not word in stop_words]\n",
    "\n",
    "#Print first 10 words\n",
    "words[:10]"
   ]
  },
  {
   "cell_type": "code",
   "execution_count": 9,
   "id": "483ceab8",
   "metadata": {},
   "outputs": [
    {
     "data": {
      "text/html": [
       "<div>\n",
       "<style scoped>\n",
       "    .dataframe tbody tr th:only-of-type {\n",
       "        vertical-align: middle;\n",
       "    }\n",
       "\n",
       "    .dataframe tbody tr th {\n",
       "        vertical-align: top;\n",
       "    }\n",
       "\n",
       "    .dataframe thead th {\n",
       "        text-align: right;\n",
       "    }\n",
       "</style>\n",
       "<table border=\"1\" class=\"dataframe\">\n",
       "  <thead>\n",
       "    <tr style=\"text-align: right;\">\n",
       "      <th></th>\n",
       "      <th>0</th>\n",
       "      <th>1</th>\n",
       "      <th>2</th>\n",
       "      <th>3</th>\n",
       "      <th>4</th>\n",
       "      <th>5</th>\n",
       "      <th>6</th>\n",
       "      <th>7</th>\n",
       "      <th>8</th>\n",
       "      <th>9</th>\n",
       "      <th>...</th>\n",
       "      <th>190</th>\n",
       "      <th>191</th>\n",
       "      <th>192</th>\n",
       "      <th>193</th>\n",
       "      <th>194</th>\n",
       "      <th>195</th>\n",
       "      <th>196</th>\n",
       "      <th>197</th>\n",
       "      <th>198</th>\n",
       "      <th>199</th>\n",
       "    </tr>\n",
       "  </thead>\n",
       "  <tbody>\n",
       "    <tr>\n",
       "      <th>new</th>\n",
       "      <td>0.275540</td>\n",
       "      <td>0.155050</td>\n",
       "      <td>-0.39506</td>\n",
       "      <td>0.350000</td>\n",
       "      <td>0.018967</td>\n",
       "      <td>-0.43623</td>\n",
       "      <td>0.65921</td>\n",
       "      <td>-0.176150</td>\n",
       "      <td>-0.282610</td>\n",
       "      <td>-0.508480</td>\n",
       "      <td>...</td>\n",
       "      <td>0.067459</td>\n",
       "      <td>-0.177820</td>\n",
       "      <td>0.049174</td>\n",
       "      <td>0.26724</td>\n",
       "      <td>-0.061817</td>\n",
       "      <td>0.34782</td>\n",
       "      <td>-0.583470</td>\n",
       "      <td>-0.300400</td>\n",
       "      <td>0.286120</td>\n",
       "      <td>-0.063445</td>\n",
       "    </tr>\n",
       "    <tr>\n",
       "      <th>food</th>\n",
       "      <td>-0.691750</td>\n",
       "      <td>-0.142590</td>\n",
       "      <td>0.38653</td>\n",
       "      <td>-0.231410</td>\n",
       "      <td>-0.204080</td>\n",
       "      <td>-0.21565</td>\n",
       "      <td>0.77839</td>\n",
       "      <td>0.002269</td>\n",
       "      <td>-0.072446</td>\n",
       "      <td>-0.601340</td>\n",
       "      <td>...</td>\n",
       "      <td>-0.250490</td>\n",
       "      <td>-0.336230</td>\n",
       "      <td>0.184910</td>\n",
       "      <td>-0.48235</td>\n",
       "      <td>0.314250</td>\n",
       "      <td>0.24499</td>\n",
       "      <td>-0.244040</td>\n",
       "      <td>0.080309</td>\n",
       "      <td>0.340600</td>\n",
       "      <td>0.704510</td>\n",
       "    </tr>\n",
       "    <tr>\n",
       "      <th>tradition</th>\n",
       "      <td>-0.468270</td>\n",
       "      <td>-0.077617</td>\n",
       "      <td>0.37846</td>\n",
       "      <td>0.035308</td>\n",
       "      <td>-0.092955</td>\n",
       "      <td>-0.27471</td>\n",
       "      <td>0.39512</td>\n",
       "      <td>-0.166380</td>\n",
       "      <td>0.125070</td>\n",
       "      <td>0.041850</td>\n",
       "      <td>...</td>\n",
       "      <td>0.383770</td>\n",
       "      <td>-0.020489</td>\n",
       "      <td>0.803810</td>\n",
       "      <td>-0.17868</td>\n",
       "      <td>0.054530</td>\n",
       "      <td>0.21030</td>\n",
       "      <td>0.703030</td>\n",
       "      <td>-0.295210</td>\n",
       "      <td>0.294710</td>\n",
       "      <td>-0.601420</td>\n",
       "    </tr>\n",
       "    <tr>\n",
       "      <th>around</th>\n",
       "      <td>-0.540240</td>\n",
       "      <td>-0.173280</td>\n",
       "      <td>0.49958</td>\n",
       "      <td>-0.219800</td>\n",
       "      <td>0.187340</td>\n",
       "      <td>0.45666</td>\n",
       "      <td>0.86513</td>\n",
       "      <td>-0.286110</td>\n",
       "      <td>-0.450310</td>\n",
       "      <td>0.468560</td>\n",
       "      <td>...</td>\n",
       "      <td>0.215700</td>\n",
       "      <td>0.204540</td>\n",
       "      <td>-0.503040</td>\n",
       "      <td>-0.14797</td>\n",
       "      <td>0.257760</td>\n",
       "      <td>0.26054</td>\n",
       "      <td>0.322950</td>\n",
       "      <td>0.189860</td>\n",
       "      <td>0.022764</td>\n",
       "      <td>0.073641</td>\n",
       "    </tr>\n",
       "    <tr>\n",
       "      <th>world</th>\n",
       "      <td>0.035771</td>\n",
       "      <td>0.629460</td>\n",
       "      <td>0.27443</td>\n",
       "      <td>-0.364550</td>\n",
       "      <td>0.391890</td>\n",
       "      <td>-0.41298</td>\n",
       "      <td>0.12398</td>\n",
       "      <td>-0.349950</td>\n",
       "      <td>0.277250</td>\n",
       "      <td>0.000376</td>\n",
       "      <td>...</td>\n",
       "      <td>0.433180</td>\n",
       "      <td>-0.230370</td>\n",
       "      <td>0.019838</td>\n",
       "      <td>-0.21725</td>\n",
       "      <td>0.168180</td>\n",
       "      <td>0.61857</td>\n",
       "      <td>0.009801</td>\n",
       "      <td>0.113410</td>\n",
       "      <td>0.029805</td>\n",
       "      <td>-0.619340</td>\n",
       "    </tr>\n",
       "  </tbody>\n",
       "</table>\n",
       "<p>5 rows × 200 columns</p>\n",
       "</div>"
      ],
      "text/plain": [
       "                0         1        2         3         4        5        6    \\\n",
       "new        0.275540  0.155050 -0.39506  0.350000  0.018967 -0.43623  0.65921   \n",
       "food      -0.691750 -0.142590  0.38653 -0.231410 -0.204080 -0.21565  0.77839   \n",
       "tradition -0.468270 -0.077617  0.37846  0.035308 -0.092955 -0.27471  0.39512   \n",
       "around    -0.540240 -0.173280  0.49958 -0.219800  0.187340  0.45666  0.86513   \n",
       "world      0.035771  0.629460  0.27443 -0.364550  0.391890 -0.41298  0.12398   \n",
       "\n",
       "                7         8         9    ...       190       191       192  \\\n",
       "new       -0.176150 -0.282610 -0.508480  ...  0.067459 -0.177820  0.049174   \n",
       "food       0.002269 -0.072446 -0.601340  ... -0.250490 -0.336230  0.184910   \n",
       "tradition -0.166380  0.125070  0.041850  ...  0.383770 -0.020489  0.803810   \n",
       "around    -0.286110 -0.450310  0.468560  ...  0.215700  0.204540 -0.503040   \n",
       "world     -0.349950  0.277250  0.000376  ...  0.433180 -0.230370  0.019838   \n",
       "\n",
       "               193       194      195       196       197       198       199  \n",
       "new        0.26724 -0.061817  0.34782 -0.583470 -0.300400  0.286120 -0.063445  \n",
       "food      -0.48235  0.314250  0.24499 -0.244040  0.080309  0.340600  0.704510  \n",
       "tradition -0.17868  0.054530  0.21030  0.703030 -0.295210  0.294710 -0.601420  \n",
       "around    -0.14797  0.257760  0.26054  0.322950  0.189860  0.022764  0.073641  \n",
       "world     -0.21725  0.168180  0.61857  0.009801  0.113410  0.029805 -0.619340  \n",
       "\n",
       "[5 rows x 200 columns]"
      ]
     },
     "execution_count": 9,
     "metadata": {},
     "output_type": "execute_result"
    }
   ],
   "source": [
    "#Filter the list of vectors to include only those that Word2Vec has a vector for\n",
    "vector_list = [wv[word] for word in words if word in wv.key_to_index]\n",
    "\n",
    "#Create a list of the words corresponding to these vectors\n",
    "words_filtered = [word for word in words if word in wv.key_to_index]\n",
    "\n",
    "#Zip the words together with their vector representations\n",
    "word_vec_zip = zip(words_filtered, vector_list)\n",
    "\n",
    "#Cast to a dict so we can turn it into a DataFrame\n",
    "word_vec_dict = dict(word_vec_zip)\n",
    "df = pd.DataFrame.from_dict(word_vec_dict, orient='index')\n",
    "df.head()"
   ]
  },
  {
   "cell_type": "markdown",
   "id": "e8362eee",
   "metadata": {},
   "source": [
    "### 4.2.1 Dimensionality Reduction with t-SNE"
   ]
  },
  {
   "cell_type": "code",
   "execution_count": 10,
   "id": "0cb788b5",
   "metadata": {},
   "outputs": [],
   "source": [
    "#Initialize t-SNE\n",
    "from sklearn.manifold import TSNE\n",
    "tsne = TSNE(n_components = 2, init = 'random', random_state = 10, perplexity = 100)\n",
    "\n",
    "#Use only 400 rows to shorten processing time\n",
    "tsne_df = tsne.fit_transform(df[:400])"
   ]
  },
  {
   "cell_type": "code",
   "execution_count": 11,
   "id": "41e93312",
   "metadata": {},
   "outputs": [
    {
     "data": {
      "image/png": "[encoded data removed]",
      "text/plain": [
       "<Figure size 1170x827 with 1 Axes>"
      ]
     },
     "metadata": {},
     "output_type": "display_data"
    }
   ],
   "source": [
    "sns.set()\n",
    "#Initialize figure\n",
    "fig, ax = plt.subplots(figsize = (11.7, 8.27))\n",
    "sns.scatterplot(tsne_df[:, 0], tsne_df[:, 1], alpha = 0.5)\n",
    "\n",
    "#Import adjustText, initialize list of texts\n",
    "from adjustText import adjust_text\n",
    "\n",
    "texts = []\n",
    "words_to_plot = list(np.arange(0, 400, 10))\n",
    "\n",
    "#Append words to list\n",
    "for word in words_to_plot:\n",
    "    texts.append(plt.text(tsne_df[word, 0], tsne_df[word, 1], df.index[word], fontsize = 14))\n",
    "    \n",
    "#Plot text using adjust_text (because overlapping text is hard to read)\n",
    "adjust_text(texts, force_points = 0.4, force_text = 0.4, \n",
    "            expand_points = (2,1), expand_text = (1,2),\n",
    "            arrowprops = dict(arrowstyle = \"-\", color = 'black', lw = 0.5))\n",
    "\n",
    "plt.show()"
   ]
  },
  {
   "cell_type": "markdown",
   "id": "fc46cc2e",
   "metadata": {},
   "source": [
    "We see certain items clustering together. For example, we have movement terms in the upper left, we have corporate finance terms near the bottom."
   ]
  },
  {
   "cell_type": "markdown",
   "id": "4169bf89",
   "metadata": {},
   "source": [
    "### 4.2.2 Logistic Regression"
   ]
  },
  {
   "cell_type": "code",
   "execution_count": 12,
   "id": "23d82284",
   "metadata": {},
   "outputs": [],
   "source": [
    "X = tweets_data['vec'].to_list()\n",
    "y = tweets_data['Sentiment'].to_list()"
   ]
  },
  {
   "cell_type": "code",
   "execution_count": 13,
   "id": "8a773e7f",
   "metadata": {},
   "outputs": [],
   "source": [
    "#Splitting data into train and test\n",
    "X_train, X_test, y_train, y_test = train_test_split(X, y, test_size=0.2)"
   ]
  },
  {
   "cell_type": "code",
   "execution_count": 14,
   "id": "34c28b98",
   "metadata": {},
   "outputs": [],
   "source": [
    "# Apply logistic regression model to training data\n",
    "Logreg = LogisticRegression()\n",
    "Logreg.fit(X_train, y_train)\n",
    "    \n",
    "# Predict using model\n",
    "y_pred_lr = Logreg.predict(X_test)"
   ]
  },
  {
   "cell_type": "code",
   "execution_count": 15,
   "id": "52738ea1",
   "metadata": {
    "scrolled": true
   },
   "outputs": [
    {
     "name": "stdout",
     "output_type": "stream",
     "text": [
      "[[  10  832 1496]\n",
      " [  30 9938 2891]\n",
      " [  19 2503 5850]]\n",
      "0.6702872417158131\n"
     ]
    }
   ],
   "source": [
    "cnf_matrix= confusion_matrix(y_test,y_pred_lr)\n",
    "print(cnf_matrix)\n",
    "Accuracy_lr = Logreg.score(X_test,y_test)\n",
    "\n",
    "print(Accuracy_lr)"
   ]
  },
  {
   "cell_type": "markdown",
   "id": "eaab2bf3",
   "metadata": {},
   "source": [
    "**Accuracy** tells you how many times the ML model was correct overall. \n",
    "\n",
    "**Precision**: The number of instances that are relevant, out of the total instances the model retrieved.\n",
    "*How many retrieved items are relevant?*\n",
    "\n",
    "**Recall**: The number of instances which the model correctly identified as relevant out of the total relevant instances.\n",
    "*How many relevant items are retrieved?*"
   ]
  },
  {
   "cell_type": "markdown",
   "id": "c42c8b41",
   "metadata": {},
   "source": [
    "**Recall or Precision?**\n",
    "It depends on the context and the specific use case of the sentiment analysis model. In general, if the goal of the sentiment analysis model is to identify all instances of negative sentiment in a dataset, regardless of false positive predictions, then recall would be the priority. However, if the goal is to ensure a high level of accuracy in sentiment predictions, such that false positive predictions are minimized, then precision would be the priority.\n",
    "\n",
    "In our capstone, we value high level of accuracy, hence precision is chosen."
   ]
  },
  {
   "cell_type": "code",
   "execution_count": 16,
   "id": "7b3de1b4",
   "metadata": {
    "scrolled": false
   },
   "outputs": [
    {
     "name": "stdout",
     "output_type": "stream",
     "text": [
      "Logistic Regression Accuracy:0.6702872417158131\n",
      "Logistic Regression Precision:0.6702872417158131\n",
      "Logistic Regression Recall:0.6702872417158131\n"
     ]
    }
   ],
   "source": [
    "accuracy_score_lr = metrics.accuracy_score(y_test, y_pred_lr)\n",
    "precision_score_lr = metrics.precision_score(y_test, y_pred_lr, average='micro')\n",
    "recall_score_lr = metrics.recall_score(y_test, y_pred_lr, average='micro')                                           \n",
    "                                           \n",
    "print(\"Logistic Regression Accuracy:\" + str(accuracy_score_lr))\n",
    "print(\"Logistic Regression Precision:\" + str(precision_score_lr))\n",
    "print(\"Logistic Regression Recall:\" + str(recall_score_lr))"
   ]
  },
  {
   "cell_type": "code",
   "execution_count": 17,
   "id": "b44975ea",
   "metadata": {},
   "outputs": [
    {
     "name": "stdout",
     "output_type": "stream",
     "text": [
      "[0.66758591 0.67055579 0.66546457 0.67331353 0.67515383]\n",
      "Mean cross validation test score: 0.6704147286308796\n",
      "Mean cross validation train score: 0.666284826470299\n",
      "Standard deviation in cv test scores: 0.00356056954933553\n"
     ]
    }
   ],
   "source": [
    "cv_scores_test= cross_val_score(Logreg,X_test,y_test,cv=5,scoring='accuracy',error_score=\"raise\")\n",
    "cv_scores_train= cross_val_score(Logreg,X_train,y_train,cv=5,scoring='accuracy',error_score=\"raise\")\n",
    "print(cv_scores_test)\n",
    "cv_scores_lr_test= cv_scores_test.mean()\n",
    "cv_scores_lr_train= cv_scores_train.mean()\n",
    "cv_scores_std_test_lr= cv_scores_test.std()\n",
    "print ('Mean cross validation test score: ' +str(cv_scores_lr_test))\n",
    "print ('Mean cross validation train score: ' +str(cv_scores_lr_train))\n",
    "print ('Standard deviation in cv test scores: ' +str(cv_scores_std_test_lr))"
   ]
  },
  {
   "cell_type": "markdown",
   "id": "14b70bd6",
   "metadata": {},
   "source": [
    "### 4.2.3 Random Forest (RF)"
   ]
  },
  {
   "cell_type": "code",
   "execution_count": 18,
   "id": "bceabee1",
   "metadata": {},
   "outputs": [
    {
     "name": "stdout",
     "output_type": "stream",
     "text": [
      "[[  513   808  1017]\n",
      " [    6 11668  1185]\n",
      " [    6  1674  6692]]\n",
      "0.8007552293266579\n"
     ]
    }
   ],
   "source": [
    "from sklearn.ensemble import RandomForestClassifier\n",
    "\n",
    "#Apply RF to the training data:\n",
    "\n",
    "rf = RandomForestClassifier(bootstrap=True,n_estimators=100,criterion='entropy')\n",
    "rf.fit(X_train, y_train)\n",
    "\n",
    "#Predict using the model:\n",
    "\n",
    "y_predict_rf = rf.predict(X_test)\n",
    "\n",
    "#Confusion matrix:\n",
    "\n",
    "cnf_matrix = confusion_matrix(y_test, y_predict_rf)\n",
    "print(cnf_matrix)\n",
    "Accuracy_rf=rf.score(X_test,y_test)\n",
    "print(Accuracy_rf)"
   ]
  },
  {
   "cell_type": "code",
   "execution_count": 19,
   "id": "ff12d23b",
   "metadata": {},
   "outputs": [
    {
     "name": "stdout",
     "output_type": "stream",
     "text": [
      "Random Forest Accuracy:0.8007552293266579\n",
      "Random Forest Precision:0.8007552293266579\n",
      "Random Forest Recall:0.8007552293266579\n"
     ]
    }
   ],
   "source": [
    "accuracy_score_rf = metrics.accuracy_score(y_test, y_predict_rf)\n",
    "precision_score_rf = metrics.precision_score(y_test, y_predict_rf, average='micro')\n",
    "recall_score_rf = metrics.recall_score(y_test, y_predict_rf, average='micro')                                           \n",
    "                                           \n",
    "print(\"Random Forest Accuracy:\" + str(accuracy_score_rf))\n",
    "print(\"Random Forest Precision:\" + str(precision_score_rf))\n",
    "print(\"Random Forest Recall:\" + str(recall_score_rf))"
   ]
  },
  {
   "cell_type": "code",
   "execution_count": 20,
   "id": "35accdbe",
   "metadata": {},
   "outputs": [
    {
     "name": "stdout",
     "output_type": "stream",
     "text": [
      "[0.77365295 0.78192618 0.76941027 0.76941027 0.76808827]\n",
      "Mean cross validation test score: 0.7724975854164826\n",
      "Mean cross validation train score: 0.7904043428016994\n",
      "Standard deviation in cv scores: 0.005074216584768982\n"
     ]
    }
   ],
   "source": [
    "cv_scores_test= cross_val_score(rf,X_test,y_test,cv=5,scoring='accuracy',error_score=\"raise\")\n",
    "cv_scores_train= cross_val_score(rf,X_train,y_train,cv=5,scoring='accuracy',error_score=\"raise\")\n",
    "print(cv_scores_test)\n",
    "cv_scores_rf_test= cv_scores_test.mean()\n",
    "cv_scores_rf_train= cv_scores_train.mean()\n",
    "cv_scores_std_rf= cv_scores_test.std()\n",
    "print ('Mean cross validation test score: ' +str(cv_scores_rf_test))\n",
    "print ('Mean cross validation train score: ' +str(cv_scores_rf_train))\n",
    "print ('Standard deviation in cv scores: ' +str(cv_scores_std_rf))"
   ]
  },
  {
   "cell_type": "markdown",
   "id": "5da056cc",
   "metadata": {},
   "source": [
    "### 4.2.4 Gradient Boosting"
   ]
  },
  {
   "cell_type": "code",
   "execution_count": 21,
   "id": "dc5af31d",
   "metadata": {},
   "outputs": [
    {
     "name": "stdout",
     "output_type": "stream",
     "text": [
      "[[  404   752  1182]\n",
      " [   21 11367  1471]\n",
      " [   26  1604  6742]]\n",
      "0.7854809283380711\n"
     ]
    }
   ],
   "source": [
    "from sklearn.ensemble import ExtraTreesClassifier, GradientBoostingClassifier\n",
    "gbc = GradientBoostingClassifier(subsample=0.8, learning_rate=0.05 , n_estimators=160, random_state=5, max_depth=9, max_leaf_nodes=100)\n",
    "gbc.fit(X_train, y_train)\n",
    "\n",
    "#Predict using the model:\n",
    "\n",
    "y_predict_gbc = gbc.predict(X_test)\n",
    "\n",
    "#Confusion matrix:\n",
    "\n",
    "cnf_matrix = confusion_matrix(y_test, y_predict_gbc)\n",
    "print(cnf_matrix)\n",
    "Accuracy_gbc=gbc.score(X_test,y_test)\n",
    "print(Accuracy_gbc)"
   ]
  },
  {
   "cell_type": "code",
   "execution_count": 22,
   "id": "10764fb1",
   "metadata": {},
   "outputs": [
    {
     "name": "stdout",
     "output_type": "stream",
     "text": [
      "Gradient Boosting Accuracy:0.7854809283380711\n",
      "Gradient Boosting Precision:0.7854809283380711\n",
      "Gradient Boosting Recall:0.7854809283380711\n"
     ]
    }
   ],
   "source": [
    "accuracy_score_gb = metrics.accuracy_score(y_test, y_predict_gbc)\n",
    "precision_score_gb = metrics.precision_score(y_test, y_predict_gbc, average='micro')\n",
    "recall_score_gb = metrics.recall_score(y_test, y_predict_gbc, average='micro')                                           \n",
    "                                           \n",
    "print(\"Gradient Boosting Accuracy:\" + str(accuracy_score_gb))\n",
    "print(\"Gradient Boosting Precision:\" + str(precision_score_gb))\n",
    "print(\"Gradient Boosting Recall:\" + str(recall_score_gb))"
   ]
  },
  {
   "cell_type": "code",
   "execution_count": 23,
   "id": "8c4c1758",
   "metadata": {},
   "outputs": [
    {
     "name": "stdout",
     "output_type": "stream",
     "text": [
      "[0.77619856 0.77471362 0.77471362 0.76559185 0.7687248 ]\n",
      "Mean cross validation test score: 0.771988490657774\n",
      "Mean cross validation train score: 0.781568196565342\n",
      "Standard deviation in cv scores: 0.004102338941703982\n"
     ]
    }
   ],
   "source": [
    "cv_scores_test= cross_val_score(gbc,X_test,y_test,cv=5,scoring='accuracy',error_score=\"raise\")\n",
    "cv_scores_train= cross_val_score(gbc,X_train,y_train,cv=5,scoring='accuracy',error_score=\"raise\")\n",
    "print(cv_scores_test)\n",
    "cv_scores_gbc_test= cv_scores_test.mean()\n",
    "cv_scores_gbc_train= cv_scores_train.mean()\n",
    "cv_scores_std_gbc= cv_scores_test.std()\n",
    "print ('Mean cross validation test score: ' +str(cv_scores_gbc_test))\n",
    "print ('Mean cross validation train score: ' +str(cv_scores_gbc_train))\n",
    "print ('Standard deviation in cv scores: ' +str(cv_scores_std_gbc))"
   ]
  },
  {
   "cell_type": "markdown",
   "id": "a9fb77c5",
   "metadata": {},
   "source": [
    "### 4.2.5 Naive Bayes"
   ]
  },
  {
   "cell_type": "code",
   "execution_count": 24,
   "id": "694644a9",
   "metadata": {},
   "outputs": [
    {
     "name": "stdout",
     "output_type": "stream",
     "text": [
      "[[1678  135  525]\n",
      " [4508 5427 2924]\n",
      " [4792  660 2920]]\n",
      "0.4253468539182825\n"
     ]
    }
   ],
   "source": [
    "from sklearn.naive_bayes import GaussianNB\n",
    "nb = GaussianNB()\n",
    "nb.fit(X_train,y_train)\n",
    "\n",
    "#Predict using the model:\n",
    "\n",
    "y_predict_nb=nb.predict(X_test)\n",
    "\n",
    "#Confusion matrix:\n",
    "\n",
    "cnf_matrix = confusion_matrix(y_test, y_predict_nb)\n",
    "print(cnf_matrix)\n",
    "Accuracy_nb=nb.score(X_test,y_test)\n",
    "print(Accuracy_nb)"
   ]
  },
  {
   "cell_type": "code",
   "execution_count": 25,
   "id": "23b1e873",
   "metadata": {},
   "outputs": [
    {
     "name": "stdout",
     "output_type": "stream",
     "text": [
      "Naive Bayes Accuracy:0.4253468539182825\n",
      "Naive Bayes Precision:0.4253468539182825\n",
      "Naive Bayes Recall:0.4253468539182825\n"
     ]
    }
   ],
   "source": [
    "accuracy_score_nb = metrics.accuracy_score(y_test, y_predict_nb)\n",
    "precision_score_nb = metrics.precision_score(y_test, y_predict_nb, average='micro')\n",
    "recall_score_nb = metrics.recall_score(y_test, y_predict_nb, average='micro')                                           \n",
    "                                           \n",
    "print(\"Naive Bayes Accuracy:\" + str(accuracy_score_nb))\n",
    "print(\"Naive Bayes Precision:\" + str(precision_score_nb))\n",
    "print(\"Naive Bayes Recall:\" + str(recall_score_nb))"
   ]
  },
  {
   "cell_type": "code",
   "execution_count": 26,
   "id": "7b225476",
   "metadata": {},
   "outputs": [
    {
     "name": "stdout",
     "output_type": "stream",
     "text": [
      "[0.42660161 0.40857022 0.37675011 0.40241833 0.40292807]\n",
      "Mean cross validation test score: 0.40345366686768314\n",
      "Mean cross validation train score: 0.4281654580465162\n",
      "Standard deviation in cv scores: 0.015977701892214577\n"
     ]
    }
   ],
   "source": [
    "cv_scores_test= cross_val_score(nb,X_test,y_test,cv=5,scoring='accuracy',error_score=\"raise\")\n",
    "cv_scores_train= cross_val_score(nb,X_train,y_train,cv=5,scoring='accuracy',error_score=\"raise\")\n",
    "print(cv_scores_test)\n",
    "cv_scores_nb_test= cv_scores_test.mean()\n",
    "cv_scores_nb_train= cv_scores_train.mean()\n",
    "cv_scores_std_nb= cv_scores_test.std()\n",
    "print ('Mean cross validation test score: ' +str(cv_scores_nb_test))\n",
    "print ('Mean cross validation train score: ' +str(cv_scores_nb_train))\n",
    "print ('Standard deviation in cv scores: ' +str(cv_scores_std_nb))"
   ]
  },
  {
   "cell_type": "markdown",
   "id": "cd63474f",
   "metadata": {},
   "source": [
    "## 4.3 Models Comparison"
   ]
  },
  {
   "cell_type": "code",
   "execution_count": 27,
   "id": "e8aea4f7",
   "metadata": {},
   "outputs": [
    {
     "name": "stdout",
     "output_type": "stream",
     "text": [
      "             Algorithm  Model precision score\n",
      "0  Logistic Regression               0.670287\n",
      "1        Random Forest               0.800755\n",
      "2       Gradient Boost               0.785481\n",
      "3          Naive Bayes               0.425347\n"
     ]
    },
    {
     "data": {
      "text/html": [
       "<div>\n",
       "<style scoped>\n",
       "    .dataframe tbody tr th:only-of-type {\n",
       "        vertical-align: middle;\n",
       "    }\n",
       "\n",
       "    .dataframe tbody tr th {\n",
       "        vertical-align: top;\n",
       "    }\n",
       "\n",
       "    .dataframe thead th {\n",
       "        text-align: right;\n",
       "    }\n",
       "</style>\n",
       "<table border=\"1\" class=\"dataframe\">\n",
       "  <thead>\n",
       "    <tr style=\"text-align: right;\">\n",
       "      <th></th>\n",
       "      <th>Algorithm</th>\n",
       "      <th>Accuracy train score</th>\n",
       "      <th>Accuracy test score</th>\n",
       "    </tr>\n",
       "  </thead>\n",
       "  <tbody>\n",
       "    <tr>\n",
       "      <th>0</th>\n",
       "      <td>Logistic Regression</td>\n",
       "      <td>0.666285</td>\n",
       "      <td>0.670415</td>\n",
       "    </tr>\n",
       "    <tr>\n",
       "      <th>1</th>\n",
       "      <td>Random Forest</td>\n",
       "      <td>0.790404</td>\n",
       "      <td>0.772498</td>\n",
       "    </tr>\n",
       "    <tr>\n",
       "      <th>2</th>\n",
       "      <td>Gradient Boost</td>\n",
       "      <td>0.771988</td>\n",
       "      <td>0.771988</td>\n",
       "    </tr>\n",
       "    <tr>\n",
       "      <th>3</th>\n",
       "      <td>Naive Bayes</td>\n",
       "      <td>0.428165</td>\n",
       "      <td>0.403454</td>\n",
       "    </tr>\n",
       "  </tbody>\n",
       "</table>\n",
       "</div>"
      ],
      "text/plain": [
       "             Algorithm  Accuracy train score  Accuracy test score\n",
       "0  Logistic Regression              0.666285             0.670415\n",
       "1        Random Forest              0.790404             0.772498\n",
       "2       Gradient Boost              0.771988             0.771988\n",
       "3          Naive Bayes              0.428165             0.403454"
      ]
     },
     "execution_count": 27,
     "metadata": {},
     "output_type": "execute_result"
    }
   ],
   "source": [
    "myLabels = [ 'Logistic Regression','Random Forest','Gradient Boost','Naive Bayes']\n",
    "score_test= [cv_scores_lr_test,cv_scores_rf_test,cv_scores_gbc_test,cv_scores_nb_test]\n",
    "score_train= [cv_scores_lr_train,cv_scores_rf_train,cv_scores_gbc_test,cv_scores_nb_train]\n",
    "Precision_score = [precision_score_lr,precision_score_rf,precision_score_gb,precision_score_nb]\n",
    "\n",
    "score_tab_acc = pd.DataFrame(list(zip(myLabels, Precision_score)), \n",
    "               columns =['Algorithm', 'Model precision score']) \n",
    "\n",
    "score_tab = pd.DataFrame(list(zip(myLabels, score_train, score_test)), \n",
    "               columns =['Algorithm', 'Accuracy train score', 'Accuracy test score' ]) \n",
    "print(score_tab_acc)\n",
    "\n",
    "score_tab"
   ]
  },
  {
   "cell_type": "code",
   "execution_count": 28,
   "id": "2f94ab7e",
   "metadata": {
    "scrolled": false
   },
   "outputs": [
    {
     "data": {
      "image/png": "[encoded data removed]",
      "text/plain": [
       "<Figure size 1000x500 with 1 Axes>"
      ]
     },
     "metadata": {},
     "output_type": "display_data"
    },
    {
     "data": {
      "image/png": "[encoded data removed]",
      "text/plain": [
       "<Figure size 1000x500 with 1 Axes>"
      ]
     },
     "metadata": {},
     "output_type": "display_data"
    }
   ],
   "source": [
    "#plotting the Precision scores:\n",
    "\n",
    "index=[1,2,3,4]\n",
    "index_acc=[1.2,2.2,3.2,4.2]\n",
    "plt.figure(figsize=(10,5))\n",
    "plt.xlabel('Models',fontsize=15)\n",
    "plt.ylabel ('Precision scores',fontsize=15)\n",
    "plt.title('Comparison of Precision Scores',fontsize=15)\n",
    "#patterns = [ \"/\"]\n",
    "_=plt.bar(index_acc,Precision_score,color='coral',alpha=0.8,label='Precision score',edgecolor='k',width=0.3)\n",
    "plt.xticks([1,2,3,4], myLabels)\n",
    "#plt.legend()\n",
    "plt.savefig(\"26.png\")\n",
    "plt.show()\n",
    "\n",
    "#plotting and comparing Accuracy train/test scores:\n",
    "\n",
    "index=[1,2,3,4]\n",
    "index_acc=[1.2,2.2,3.2,4.2]\n",
    "plt.figure(figsize=(10,5))\n",
    "plt.xlabel('Models',fontsize=15)\n",
    "plt.ylabel ('Accuracy scores',fontsize=15)\n",
    "plt.title('Comparison of Accuracy Scores',fontsize=15)\n",
    "_=plt.bar(index,score_train,color='b',alpha=0.6,label='Train score',edgecolor='k',width=0.2)\n",
    "_=plt.bar(index_acc,score_test,color='cyan',alpha=0.8,label='Test score',edgecolor='k',width=0.2)\n",
    "plt.xticks([1,2,3,4], myLabels)\n",
    "plt.legend()\n",
    "plt.savefig(\"27.png\")\n",
    "plt.show()"
   ]
  },
  {
   "cell_type": "markdown",
   "id": "d30586c4",
   "metadata": {},
   "source": [
    "## 4.4 Random Search CV & Hyperparameter Tuning"
   ]
  },
  {
   "cell_type": "markdown",
   "id": "b16bbfe7",
   "metadata": {},
   "source": [
    "### 4.4.1 Random Forest"
   ]
  },
  {
   "cell_type": "code",
   "execution_count": 33,
   "id": "608cd843",
   "metadata": {},
   "outputs": [
    {
     "name": "stdout",
     "output_type": "stream",
     "text": [
      "RandomForestClassifier(criterion='entropy', min_samples_split=4,\n",
      "                       n_estimators=700, n_jobs=-1, random_state=1)\n",
      "0.7901709945689069\n"
     ]
    }
   ],
   "source": [
    "from sklearn.model_selection import RandomizedSearchCV\n",
    "\n",
    "rf = RandomForestClassifier(max_features='auto',random_state=1, n_jobs=-1)\n",
    "\n",
    "rf_param = { \"criterion\" : [\"gini\", \"entropy\"], \"min_samples_leaf\" : [1, 5, 10], \"min_samples_split\" : [2, 4, 10,12,16], \"n_estimators\": [50, 100,400,700,1000]}\n",
    "\n",
    "gs = RandomizedSearchCV(estimator=rf, param_distributions=rf_param, scoring='accuracy', cv=3, n_iter = 10, n_jobs=-1)\n",
    "\n",
    "gs = gs.fit(X_train, y_train)\n",
    "\n",
    "print(gs.best_estimator_) \n",
    "print(gs.best_score_)"
   ]
  },
  {
   "cell_type": "markdown",
   "id": "3b9c6c1e",
   "metadata": {},
   "source": [
    "### Fitting the Random forest model with the optimal hyperparameters"
   ]
  },
  {
   "cell_type": "code",
   "execution_count": 37,
   "id": "7aea7e0f",
   "metadata": {},
   "outputs": [
    {
     "name": "stdout",
     "output_type": "stream",
     "text": [
      "0.8011370868513725\n",
      "0.7731340596393352\n"
     ]
    }
   ],
   "source": [
    "rf = RandomForestClassifier(criterion='entropy', min_samples_split=4,\n",
    "                       n_estimators=700, n_jobs=-1, random_state=1)\n",
    "rf.fit(X_train, y_train)\n",
    "y_predict_rf = rf.predict(X_test)\n",
    "\n",
    "precision_score_rf = metrics.precision_score(y_test, y_predict_rf, average='micro')\n",
    "cv = cross_val_score(rf, X_test, y_test,scoring='accuracy').mean()\n",
    "print(precision_score_rf)\n",
    "print(cv)"
   ]
  },
  {
   "cell_type": "markdown",
   "id": "51df3c4e",
   "metadata": {},
   "source": [
    "### 4.4.2 Gradient Boost"
   ]
  },
  {
   "cell_type": "code",
   "execution_count": 34,
   "id": "54d65c0a",
   "metadata": {
    "scrolled": true
   },
   "outputs": [
    {
     "name": "stdout",
     "output_type": "stream",
     "text": [
      "Fitting 3 folds for each of 10 candidates, totalling 30 fits\n",
      "GradientBoostingClassifier(learning_rate=0.05, max_depth=8, max_features=0.3,\n",
      "                           min_samples_leaf=150, n_estimators=300)\n",
      "0.7804119993211134\n"
     ]
    }
   ],
   "source": [
    "GB = GradientBoostingClassifier()\n",
    "gb_param = {\n",
    "        'loss' : [\"deviance\"],\n",
    "        'n_estimators' : [100,200,300],\n",
    "        'learning_rate': [0.1, 0.05, 0.01],\n",
    "        'max_depth': [4, 8],\n",
    "        'min_samples_leaf': [100,150],\n",
    "        'max_features': [0.3, 0.1] \n",
    "        }\n",
    "\n",
    "gsGB = RandomizedSearchCV(GB, param_distributions=gb_param, scoring='accuracy', cv=3, n_iter = 10, n_jobs= -1, verbose = 1)\n",
    "gsGB.fit(X_train,y_train)\n",
    "print(gsGB.best_estimator_)\n",
    "print(gsGB.best_score_)"
   ]
  },
  {
   "cell_type": "markdown",
   "id": "981e5f69",
   "metadata": {},
   "source": [
    "### Fitting the Gradient Boost model with the optimal hyperparameters"
   ]
  },
  {
   "cell_type": "code",
   "execution_count": 57,
   "id": "45d8d2a2",
   "metadata": {},
   "outputs": [
    {
     "name": "stdout",
     "output_type": "stream",
     "text": [
      "0.7859052144766431\n",
      "0.7692731115634357\n"
     ]
    }
   ],
   "source": [
    "GB= GradientBoostingClassifier(learning_rate=0.05, max_depth=8, max_features=0.3,\n",
    "                           min_samples_leaf=150, n_estimators=300)\n",
    "GB.fit(X_train, y_train)\n",
    "y_predict_GB = GB.predict(X_test)\n",
    "\n",
    "precision_score_GB = metrics.precision_score(y_test, y_predict_GB, average='micro')\n",
    "cv_GB = cross_val_score(GB, X_test, y_test,scoring='accuracy').mean()\n",
    "print(precision_score_GB)\n",
    "print(cv_GB)"
   ]
  },
  {
   "cell_type": "markdown",
   "id": "7f6f40c1",
   "metadata": {},
   "source": [
    "## 4.5 Conclusions"
   ]
  },
  {
   "cell_type": "markdown",
   "id": "c925c592",
   "metadata": {},
   "source": [
    "In order to predict the sentiment of each tweet, we have vectorized the tweets and applied classification machine learning models. Here we have used the following classification models:\n",
    " \n",
    "- Logistic Regression\n",
    "- Random Forest\n",
    "- Gradient Boost\n",
    "- Naive Bayes \n",
    "\n",
    "Evaluating the performance of a model by training and testing on the same dataset can lead to the overfitting. Hence the model evaluation is based on splitting the dataset into train and validation set. But the performance of the prediction result depends upon the random choice of the pair of (train,validation) set. Inorder to overcome that, the Cross-Validation procedure is used where under the k-fold CV approach, the training set is split into k smaller sets, where a model is trained using k-1 of the folds as training data and the model is validated on the remaining part.\n",
    "\n",
    "We have evaluated each models in terms of model accuracy score, and 'precision' score for both the training and test data, and plotted them. The two best performing models are the Random forest and the Gradient boost. Both are the ensemble model, based on decision trees.\n",
    "\n",
    "Next, we have carried out the Randomized Search CV for the hyperparameter tuning for both the models seperately. This step was the most time consuming one in terms of computation. (The RF model took much longer time). I originally attempted the exhaustive Grid Search CV, but with \n",
    "\n",
    "With the result of the optimized hyperparameters, we have again fitted the two models, and got the predictions seperately. Clearly, the model performance improved with the optimized parameters. The final precision scores for both RF and the GB are 0.801 and 0.785, respectively."
   ]
  },
  {
   "cell_type": "markdown",
   "id": "3a985f25",
   "metadata": {},
   "source": [
    "## 4.6 Possible Directions for the Future"
   ]
  },
  {
   "cell_type": "markdown",
   "id": "7d4e0459",
   "metadata": {},
   "source": [
    "There are possible alternative features to determine the sentiments of each tweet such as the change in stock price itself. Also, here we have used only the tweet data for the month of December 2022. The model can be improved, if we can use the data of the whole year of 2022.\n",
    "\n",
    "Try to use more feature engineering. In this project, we have negnected the change in prices of the stock in the final models, although we had already engineered many features (stock_data.csv file)."
   ]
  }
 ],
 "metadata": {
  "kernelspec": {
   "display_name": "Python 3 (ipykernel)",
   "language": "python",
   "name": "python3"
  },
  "language_info": {
   "codemirror_mode": {
    "name": "ipython",
    "version": 3
   },
   "file_extension": ".py",
   "mimetype": "text/x-python",
   "name": "python",
   "nbconvert_exporter": "python",
   "pygments_lexer": "ipython3",
   "version": "3.9.13"
  }
 },
 "nbformat": 4,
 "nbformat_minor": 5
}
